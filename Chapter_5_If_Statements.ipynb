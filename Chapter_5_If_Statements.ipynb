{
 "cells": [
  {
   "cell_type": "markdown",
   "id": "2b933e3d-2d78-4965-9530-a7431706894a",
   "metadata": {},
   "source": [
    "**Chapter 5: If Statements**"
   ]
  },
  {
   "cell_type": "markdown",
   "id": "5a1e887e-7b59-4ce4-b2aa-174148e6afe7",
   "metadata": {},
   "source": [
    "\"Python Crash Course\" Chapter 5 is all about conditional logic in Python. I'll learn how to make complex decisions with if-else and if-elif-else chains in this chapter, including the basics of if statements, conditional tests, and if-else if-else chains. Knowing this is crucial to advancing in Python, allowing you to code more dynamically and responsively. "
   ]
  },
  {
   "cell_type": "markdown",
   "id": "fa95066f-6b91-432b-b4f8-da94951d0811",
   "metadata": {},
   "source": [
    "This code demonstrates the use of an `if-else` statement within a loop in Python. It iterates over a list of character classes, converting 'cleric' to uppercase and the rest to title case. This example is effective for teaching basic conditional logic in Python, particularly how to apply different formatting based on specific conditions."
   ]
  },
  {
   "cell_type": "code",
   "execution_count": 1,
   "id": "4120e31b-523f-4354-b6c3-974f854fcc0b",
   "metadata": {},
   "outputs": [
    {
     "name": "stdout",
     "output_type": "stream",
     "text": [
      "CLERIC\n",
      "Ranger\n",
      "Sorcerer\n",
      "Paladin\n",
      "Barbarian\n",
      "Fighter\n",
      "Rogue\n",
      "Warlock\n",
      "Wizard\n"
     ]
    }
   ],
   "source": [
    "# bg3 refers to 'Baldur's Gate Three' \n",
    "\n",
    "# List of some character classes for the game BG3\n",
    "bg3_class = ['cleric', 'ranger', 'sorcerer', 'paladin', 'barbarian', 'fighter', 'rogue', 'warlock', 'wizard']\n",
    "\n",
    "# Loop through each class in the list\n",
    "for i in bg3_class:\n",
    "    # Check if the current class is 'cleric'\n",
    "    if i == 'cleric':\n",
    "        # If it is 'cleric', print it in uppercase\n",
    "        print(i.upper())\n",
    "    else:\n",
    "        # For all other classes, print them in title case\n",
    "        print(i.title())"
   ]
  },
  {
   "cell_type": "markdown",
   "id": "c65195ee-f729-44c4-a171-b7e0dd17db6a",
   "metadata": {},
   "source": [
    "**Conditional Tests**"
   ]
  },
  {
   "cell_type": "markdown",
   "id": "61d045ca-beb2-46ec-a900-0ccc8da89760",
   "metadata": {},
   "source": [
    "An `if` statement in Python involves a conditional test that evaluates to either `True` or `False`. If the test is True, Python executes the code following the if statement; if False, it ignores that code."
   ]
  },
  {
   "cell_type": "code",
   "execution_count": 2,
   "id": "abc2b51f-a958-4f6a-8f74-b0645e389d90",
   "metadata": {},
   "outputs": [
    {
     "data": {
      "text/plain": [
       "True"
      ]
     },
     "execution_count": 2,
     "metadata": {},
     "output_type": "execute_result"
    }
   ],
   "source": [
    "# This code assigns the string 'ranger' to the variable bg3_class and then checks if bg3_class is equal to 'ranger', which evaluates to True.\n",
    "\n",
    "bg3_class = 'ranger'\n",
    "bg3_class == 'ranger'"
   ]
  },
  {
   "cell_type": "code",
   "execution_count": 3,
   "id": "7d06b7a2-c1df-4b90-90aa-d41a11a1227a",
   "metadata": {},
   "outputs": [
    {
     "data": {
      "text/plain": [
       "False"
      ]
     },
     "execution_count": 3,
     "metadata": {},
     "output_type": "execute_result"
    }
   ],
   "source": [
    "# The code sets bg3_class to 'paladin' and then checks if it's equal to 'ranger', resulting in False.\n",
    "\n",
    "bg3_class = 'paladin'\n",
    "bg3_class == 'ranger'"
   ]
  },
  {
   "cell_type": "markdown",
   "id": "c1edd80c-8cb4-41a9-90b8-2a3a22715027",
   "metadata": {},
   "source": [
    "**Ignoring Case When**"
   ]
  },
  {
   "cell_type": "code",
   "execution_count": 4,
   "id": "9d6e6c94-389a-42a8-bc46-a4b1fa3a40ab",
   "metadata": {},
   "outputs": [
    {
     "data": {
      "text/plain": [
       "False"
      ]
     },
     "execution_count": 4,
     "metadata": {},
     "output_type": "execute_result"
    }
   ],
   "source": [
    "# The code assigns 'Paladin' to bg3_class and checks if it equals 'paladin', which returns False.\n",
    "\n",
    "bg3_class = 'Paladin'\n",
    "bg3_class == 'paladin'"
   ]
  },
  {
   "cell_type": "code",
   "execution_count": 5,
   "id": "880b9fd5-00c5-4565-af6a-531e479df6d1",
   "metadata": {},
   "outputs": [
    {
     "data": {
      "text/plain": [
       "True"
      ]
     },
     "execution_count": 5,
     "metadata": {},
     "output_type": "execute_result"
    }
   ],
   "source": [
    "# Assigning a specific character class to the variable bg3_class\n",
    "bg3_class = 'Paladin'\n",
    "\n",
    "# Comparing the lowercased version of bg3_class with the string 'paladin'\n",
    "bg3_class.lower() == 'paladin'  # This will return True as 'Paladin'.lower() becomes 'paladin'"
   ]
  },
  {
   "cell_type": "markdown",
   "id": "95fb5815-10cb-40ba-a25e-65f125d5ccb0",
   "metadata": {},
   "source": [
    "**Using and to Check Multiple Conditions**\n",
    "\n",
    "Python supports the usual logical conditions from mathematics:\n",
    "\n",
    "- `Equals: a == b`\n",
    "- `Not Equals: a != b`\n",
    "- `Less than: a < b`\n",
    "- `Less than or equal to: a <= b`\n",
    "- `Greater than: a > b`\n",
    "- `Greater than or equal to: a >= b`"
   ]
  },
  {
   "cell_type": "code",
   "execution_count": 6,
   "id": "c36a3a8d-c07f-4694-8e4e-716d3d662617",
   "metadata": {},
   "outputs": [
    {
     "data": {
      "text/plain": [
       "False"
      ]
     },
     "execution_count": 6,
     "metadata": {},
     "output_type": "execute_result"
    }
   ],
   "source": [
    "age_0 = 22\n",
    "age_1 = 18\n",
    "age_0 >= 21 and age_1 >= 21"
   ]
  },
  {
   "cell_type": "markdown",
   "id": "39747a47-7067-428e-919d-1cfab5b87702",
   "metadata": {},
   "source": [
    "**Using and to Check Multiple Conditions**"
   ]
  },
  {
   "cell_type": "code",
   "execution_count": 7,
   "id": "bc0fbefb-14cd-42e9-ad5d-aedb12b5d657",
   "metadata": {},
   "outputs": [
    {
     "data": {
      "text/plain": [
       "True"
      ]
     },
     "execution_count": 7,
     "metadata": {},
     "output_type": "execute_result"
    }
   ],
   "source": [
    "age_0 = 22\n",
    "age_1 = 18\n",
    "age_0 >= 21 or age_1 >= 21"
   ]
  },
  {
   "cell_type": "markdown",
   "id": "5826ade7-14d5-4b8b-8928-10cef60ca895",
   "metadata": {},
   "source": [
    "**Checking whether a Value is in a List**"
   ]
  },
  {
   "cell_type": "markdown",
   "id": "40cd232a-5c54-4b82-bd84-3836fd629230",
   "metadata": {},
   "source": [
    "To check if a value exists in a list before performing an action, use the `in` keyword. This is useful in scenarios like verifying a new username against existing ones or checking if a location is already known in a mapping project. \n",
    "\n",
    "\n",
    "The technique is powerful because you can create a list of essential values, and then easily check whether the value you're testing matches one of the values in the list"
   ]
  },
  {
   "cell_type": "code",
   "execution_count": 8,
   "id": "02b2e10a-c27f-4c42-be1c-71a0b2327a8a",
   "metadata": {},
   "outputs": [
    {
     "data": {
      "text/plain": [
       "True"
      ]
     },
     "execution_count": 8,
     "metadata": {},
     "output_type": "execute_result"
    }
   ],
   "source": [
    "bg3_class = ['cleric', 'ranger', 'sorcerer', 'paladin', 'barbarian', 'fighter', 'rogue', 'warlock', 'wizard']\n",
    "'paladin' in bg3_class"
   ]
  },
  {
   "cell_type": "code",
   "execution_count": 9,
   "id": "76e736f1-3690-4075-ad53-b51c4ddc67d9",
   "metadata": {},
   "outputs": [
    {
     "data": {
      "text/plain": [
       "False"
      ]
     },
     "execution_count": 9,
     "metadata": {},
     "output_type": "execute_result"
    }
   ],
   "source": [
    "'thief' in bg3_class"
   ]
  },
  {
   "cell_type": "markdown",
   "id": "5dd4099f-1d07-4d0e-8c9f-cb90c6851bd8",
   "metadata": {},
   "source": [
    "**Checking whether a Value is Not in a List**"
   ]
  },
  {
   "cell_type": "code",
   "execution_count": 10,
   "id": "e8510ca8-5699-4265-a5ad-4df040bda0dd",
   "metadata": {},
   "outputs": [
    {
     "name": "stdout",
     "output_type": "stream",
     "text": [
      "Monk is not a main class\n"
     ]
    }
   ],
   "source": [
    "# Define a list of main classes\n",
    "bg3_class = ['cleric', 'ranger', 'sorcerer', 'paladin', 'barbarian', 'fighter', 'rogue', 'warlock', 'wizard']\n",
    "\n",
    "# Define a subclass to check against the main classes\n",
    "bg3_sub_class = 'monk'\n",
    "\n",
    "# Check if the subclass is not in the list of main classes\n",
    "if bg3_sub_class not in bg3_class:\n",
    "    # If the subclass is not a main class, print a message stating so\n",
    "    print(f\"{bg3_sub_class.title()} is not a main class\")"
   ]
  },
  {
   "cell_type": "markdown",
   "id": "33a8ab4f-a94c-4c77-84db-5dab2d75ea9b",
   "metadata": {},
   "source": [
    "**Boolean Expressions**\n",
    "\n",
    "Boolean expressions are just another name for a conditional test. A boolean vlaue is either True or False, just like the value of a conditional expression after it has been evaluated. "
   ]
  },
  {
   "cell_type": "markdown",
   "id": "f32eee95-57b8-4c3e-8339-a43b7d334f0a",
   "metadata": {},
   "source": [
    "**First Set of Exercises**\n",
    "\n",
    "**Try It Yourself**\n",
    "\n",
    "**5-1. Conditional Tests:**\n",
    "- Write a series of conditional tests, printing a statement for each test and your prediction of its result.\n",
    "  - Example:\n",
    "    ```python\n",
    "    car = 'subaru'\n",
    "    print(\"Is car == 'subaru'? I predict True.\")\n",
    "    print(car == 'subaru')\n",
    "    print(\"\\nIs car == 'audi'? I predict False.\")\n",
    "    print(car == 'audi')\n",
    "    ```\n",
    "  - Ensure you understand why each line evaluates to True or False.\n",
    "  - Create at least ten tests with at least five evaluating to True and five to False."
   ]
  },
  {
   "cell_type": "code",
   "execution_count": 11,
   "id": "33ae8077-0e68-4c78-b2e3-b5f68d8fb9bf",
   "metadata": {},
   "outputs": [
    {
     "name": "stdout",
     "output_type": "stream",
     "text": [
      "Is bg3_class == 'cleric'? I predict True.\n",
      "True\n",
      "Is bg3_class == 'monk'? I predict False.\n",
      "False\n"
     ]
    }
   ],
   "source": [
    "# 5-1\n",
    "\n",
    "# Assign the value 'cleric' to the variable bg3_class\n",
    "bg3_class = 'cleric'\n",
    "\n",
    "# Print a statement about the expected outcome of the comparison\n",
    "print(f\"Is bg3_class == 'cleric'? I predict True.\")\n",
    "# Check if bg3_class is equal to 'cleric' and print the result (True)\n",
    "print(bg3_class == 'cleric')\n",
    "\n",
    "# Print a statement about the expected outcome of the next comparison\n",
    "print(f\"Is bg3_class == 'monk'? I predict False.\")\n",
    "# Check if bg3_class is equal to 'monk' and print the result (False)\n",
    "print(bg3_class == 'monk')"
   ]
  },
  {
   "cell_type": "markdown",
   "id": "5ed64d54-2c09-44e2-b3ee-d6c395fe6b21",
   "metadata": {},
   "source": [
    "**If Statements**\n",
    "\n",
    "Understanding conditional tests allows you to write if statements, which vary based on the number of conditions to test. Let's explore if statements in more depth, building on the earlier examples.\n",
    "\n",
    "if conditional_test:\n",
    "    do something"
   ]
  },
  {
   "cell_type": "code",
   "execution_count": 12,
   "id": "0bce0c33-8189-4170-afc0-17544a0b9751",
   "metadata": {},
   "outputs": [
    {
     "name": "stdout",
     "output_type": "stream",
     "text": [
      "You are old enough to vote!\n"
     ]
    }
   ],
   "source": [
    "age = 19 \n",
    "if age >= 18: # Python checks to see whether the value of age is greater than or equal to 18\n",
    "    print(\"You are old enough to vote!\")"
   ]
  },
  {
   "cell_type": "markdown",
   "id": "9be95403-ad8c-48a0-bb0c-c9c6a583513e",
   "metadata": {},
   "source": [
    "Indentation plays the same role in `if` statemtns as it did in `for` loops. All indentated lines after an `if` statement will be executed if the test passes, and the entire block of indented lines will be ignored if the test does not pass. "
   ]
  },
  {
   "cell_type": "code",
   "execution_count": 13,
   "id": "ce2f3b6d-01fd-4d90-86a5-6e369004118a",
   "metadata": {},
   "outputs": [
    {
     "name": "stdout",
     "output_type": "stream",
     "text": [
      "You are old enought to vote\n",
      "Have you registered to vote yet?\n"
     ]
    }
   ],
   "source": [
    "age = 19\n",
    "if age >= 18:\n",
    "    print(\"You are old enought to vote\")\n",
    "    print(\"Have you registered to vote yet?\")\n",
    "\n",
    "# Both print statements will execute as they are not part of an if statement or a loop. \n",
    "# Indentation in Python should typically be four spaces or one tab."
   ]
  },
  {
   "cell_type": "markdown",
   "id": "46622485-7bc3-4a40-8683-7328c67d6d13",
   "metadata": {},
   "source": [
    "**If-else Statements**\n",
    "\n",
    "An `if-else` block is similar to a simple `if` statement, but the `else` statement allows you to define an action or set of actions that are executed when the conditional test fails"
   ]
  },
  {
   "cell_type": "code",
   "execution_count": 14,
   "id": "5de72918-3f9b-4232-be94-5925151dc981",
   "metadata": {},
   "outputs": [
    {
     "name": "stdout",
     "output_type": "stream",
     "text": [
      "Sorry, you are too young to vote.\n",
      "Please register to vote as soon as you turn 18!\n"
     ]
    }
   ],
   "source": [
    "# Set the age variable\n",
    "age = 17\n",
    "\n",
    "# Check if age is 18 or older\n",
    "if age >= 18:\n",
    "    # These print statements execute if the condition is True\n",
    "    print(\"You are old enough to vote\")\n",
    "    print(\"Have you registered to vote yet?\")\n",
    "else:\n",
    "    # These print statements execute if the condition is False\n",
    "    print(\"Sorry, you are too young to vote.\")\n",
    "    print(\"Please register to vote as soon as you turn 18!\")"
   ]
  },
  {
   "cell_type": "markdown",
   "id": "24b116f5-7886-404f-8132-717554e8ba8c",
   "metadata": {},
   "source": [
    "## Midway Inspiration\n",
    "\n",
    "> **Embrace the Challenge**\n",
    ">\n",
    "> \"Success is something you attract, not something you pursue. It's something you attract by becoming attractive. To attract attractive people, you must be attractive yourself. You can have more than you've got because you can become more than you are.\"\n",
    "> — Jim Rohn\n"
   ]
  },
  {
   "cell_type": "markdown",
   "id": "300b2d44-6c77-405b-b24a-ccddb45563c1",
   "metadata": {},
   "source": [
    "**The if-elif-else Chain**"
   ]
  },
  {
   "cell_type": "markdown",
   "id": "e1ad0bf0-5618-444e-b00d-a49e82816db5",
   "metadata": {},
   "source": [
    "To handle multiple conditions, use Python's if-elif-else chain, where only the first true condition's block is executed. For instance, an amusement park's pricing varies by age: under 4 is free, ages 4 to 18 pay $25, and over 18 pay $40. Use if-elif-else to determine and print the correct admission price based on age"
   ]
  },
  {
   "cell_type": "code",
   "execution_count": 15,
   "id": "81bff2d9-056e-46fc-aa09-36c5615a474c",
   "metadata": {},
   "outputs": [
    {
     "name": "stdout",
     "output_type": "stream",
     "text": [
      "Your admission cost is $25.\n"
     ]
    }
   ],
   "source": [
    "age = 12\n",
    "\n",
    "if age < 4:\n",
    "    print(\"Your admission cost is 0$.\")\n",
    "elif age < 18:\n",
    "    print(\"Your admission cost is $25.\")\n",
    "else:\n",
    "    print(\"Your admission cost is 40$.\")"
   ]
  },
  {
   "cell_type": "markdown",
   "id": "160fcfb5-8e5f-4ae6-96c3-dfd077bcc743",
   "metadata": {},
   "source": [
    "The one below is perfered because it would be more concise to set just the price inside the `if-elif-else` block chain and then have a simple `print()` call that runs after the chain had been evaluated."
   ]
  },
  {
   "cell_type": "code",
   "execution_count": 16,
   "id": "e5ce22b7-086d-4f4c-ac06-67700c7155eb",
   "metadata": {},
   "outputs": [
    {
     "name": "stdout",
     "output_type": "stream",
     "text": [
      "Your admission cost is $25.\n"
     ]
    }
   ],
   "source": [
    "age = 12\n",
    "\n",
    "if age < 4:\n",
    "    price = 0\n",
    "elif age < 18:\n",
    "    price = 25\n",
    "else:\n",
    "    price = 40\n",
    "\n",
    "print(f\"Your admission cost is ${price}.\")"
   ]
  },
  {
   "cell_type": "markdown",
   "id": "78b0bd8d-4f0c-4341-90b3-51b9d682df1e",
   "metadata": {},
   "source": [
    "**Using Miltiple elif Blocks**"
   ]
  },
  {
   "cell_type": "markdown",
   "id": "d33603c8-d119-43e7-aabf-71ffb8e5a575",
   "metadata": {},
   "source": [
    "You can use as many `elif` blocks in your code as you like. For example, if the amusement park were to implement a discount for seniors, you could add one more conditional test to the code to determine whether someone qualified for the senior discount. Let’s say that anyone 65 or older pays half the regular admission, or $20:"
   ]
  },
  {
   "cell_type": "code",
   "execution_count": 17,
   "id": "598f3660-64c9-4999-bca4-6aebee591e0d",
   "metadata": {},
   "outputs": [
    {
     "name": "stdout",
     "output_type": "stream",
     "text": [
      "Your admission cost is $25.\n"
     ]
    }
   ],
   "source": [
    "age = 12\n",
    "\n",
    "if age < 4:\n",
    "    price = 0\n",
    "elif age < 18: \n",
    "    price = 25 \n",
    "elif age < 65: \n",
    "    price = 40\n",
    "else:\n",
    "    price = 20\n",
    "\n",
    "print(f\"Your admission cost is ${price}.\")"
   ]
  },
  {
   "cell_type": "markdown",
   "id": "494e3975-cf2e-4813-b863-48b934655d59",
   "metadata": {},
   "source": [
    "**Omitting the else Block**"
   ]
  },
  {
   "cell_type": "markdown",
   "id": "974bead2-f8b4-491a-8996-adfcece4cba3",
   "metadata": {},
   "source": [
    "In Python, an `if-elif` chain doesn't always need an `else` block. Sometimes, it's better to use an additional `elif` for clarity, especially when addressing specific conditions. For instance, adding an `elif` for people 65 or older to assign a $20 price can be clearer than a general `else`. This ensures every code block executes only after passing a specific test. Using `else` as a catchall can lead to unintended results, including handling invalid data. A final `elif` is preferable for testing a specific last condition, ensuring code runs only when appropriate."
   ]
  },
  {
   "cell_type": "code",
   "execution_count": 18,
   "id": "4ee750bb-4392-4120-b5c5-dfab96edf54e",
   "metadata": {},
   "outputs": [
    {
     "name": "stdout",
     "output_type": "stream",
     "text": [
      "Your admission cost is $25.\n"
     ]
    }
   ],
   "source": [
    "age = 12\n",
    "\n",
    "if age < 4:\n",
    "    price = 0\n",
    "elif age < 18: \n",
    "    price = 25 \n",
    "elif age < 65: \n",
    "    price = 40\n",
    "elif age >= 65:\n",
    "    price = 20\n",
    "\n",
    "print(f\"Your admission cost is ${price}.\")"
   ]
  },
  {
   "cell_type": "markdown",
   "id": "39c0ba09-eb90-43c3-b2d6-8f76f74dde97",
   "metadata": {},
   "source": [
    "**Testing Multiple Conditions**"
   ]
  },
  {
   "cell_type": "markdown",
   "id": "b7d35928-0839-4e0e-9397-48bc8b65322f",
   "metadata": {},
   "source": [
    "The `if-elif-else` chain is efficient for situations where only one test needs to pass, as Python skips subsequent tests once a condition is met. However, when multiple conditions might be true and you want to act on each of them, use separate if statements without `elif` or `else` blocks.\n",
    "\n",
    "For instance, in your anime favorites list:"
   ]
  },
  {
   "cell_type": "code",
   "execution_count": 19,
   "id": "603efaca-644f-4774-9837-84e9562d95e3",
   "metadata": {},
   "outputs": [
    {
     "name": "stdout",
     "output_type": "stream",
     "text": [
      "Naruto is my favorite anime!\n",
      "One Piece is my favorite anime!\n"
     ]
    }
   ],
   "source": [
    "favorite_anime = ['hxh', 'naruto', 'one_piece', 'myhero', 'berserk', 'vinland']\n",
    "\n",
    "if 'naruto' in favorite_anime:\n",
    "    print(\"Naruto is my favorite anime!\")\n",
    "if 'one_piece' in favorite_anime:\n",
    "    print(\"One Piece is my favorite anime!\")\n",
    "if 'spykids' in favorite_anime:\n",
    "    print(\"Spy Kids is my favorite anime!\")"
   ]
  },
  {
   "cell_type": "markdown",
   "id": "f29df8ff-b7af-4cc5-bf86-312f03903088",
   "metadata": {},
   "source": [
    "Each `if` statement checks a condition independently. This approach ensures that each favorite anime is acknowledged separately. If you had used an `if-elif-else` chain, only the first true condition ('naruto') would result in an action, and the rest would be ignored. This way, all valid favorites are recognized, like 'Naruto' and 'One Piece', but not 'Spy Kids' (since it's not in the list)."
   ]
  },
  {
   "cell_type": "markdown",
   "id": "9741b1e5-bbeb-4ffe-85a1-814446d73a01",
   "metadata": {},
   "source": [
    "**Second Set of Exercisies**\n",
    "\n",
    "**Try It Yourself**\n",
    "\n",
    "**5-3. Alien Colors #1:**\n",
    "- Create a variable `alien_color` with a value of 'green', 'yellow', or 'red'.\n",
    "  - Write an if statement to check if `alien_color` is 'green'. If yes, print a message about earning 5 points.\n",
    "  - Create two program versions: one that passes the if test (prints output) and one that fails (no output).\n",
    "\n",
    "**5-4. Alien Colors #2:**\n",
    "- Choose a color for an alien and write an if-else chain.\n",
    "  - If the alien is green, print a message about earning 5 points.\n",
    "  - If the alien isn’t green, print a message about earning 10 points.\n",
    "  - Write two program versions: one for the if block and one for the else block.\n",
    "\n",
    "**5-5. Alien Colors #3:**\n",
    "- Convert your if-else chain from Exercise 5-4 into an if-elif-else chain.\n",
    "  - If the alien is green, print a message for earning 5 points.\n",
    "  - If the alien is yellow, print a message for earning 10 points.\n",
    "  - If the alien is red, print a message for earning 15 points.\n",
    "  - Create three versions, each printing the appropriate message for the alien color.\n",
    "\n",
    "**5-6. Stages of Life:**\n",
    "- Write an if-elif-else chain for a person’s life stages based on age.\n",
    "  - Less than 2 years: print 'baby'.\n",
    "  - At least 2, but less than 4: print 'toddler'.\n",
    "  - At least 4, but less than 13: print 'kid'.\n",
    "  - At least 13, but less than 20: print 'teenager'.\n",
    "  - At least 20, but less than 65: print 'adult'.\n",
    "  - 65 or older: print 'elder'."
   ]
  },
  {
   "cell_type": "code",
   "execution_count": 20,
   "id": "120ce031-520e-4d7d-8559-5d96eadc1bfc",
   "metadata": {},
   "outputs": [
    {
     "name": "stdout",
     "output_type": "stream",
     "text": [
      "You've earned 5 points for killing the green alien!\n"
     ]
    }
   ],
   "source": [
    "# 5-3\n",
    "\n",
    "alien_color = ['green', 'yellow', 'red']\n",
    "\n",
    "if 'green' in alien_color:\n",
    "    print(\"You've earned 5 points for killing the green alien!\")\n",
    "if 'blue' in alien_color:\n",
    "    print(\"You've earned 5 points!\")"
   ]
  },
  {
   "cell_type": "code",
   "execution_count": 21,
   "id": "81fa7850-8996-4b2a-8707-5888bb9f6166",
   "metadata": {},
   "outputs": [
    {
     "name": "stdout",
     "output_type": "stream",
     "text": [
      "You've earned 5 points!\n"
     ]
    }
   ],
   "source": [
    "# 5-4\n",
    "\n",
    "alien_color = ['green', 'yellow', 'red']\n",
    "\n",
    "if 'green' in alien_color:\n",
    "    print(\"You've earned 5 points!\")\n",
    "else:\n",
    "    print(\"You've earned 10 points!\")"
   ]
  },
  {
   "cell_type": "code",
   "execution_count": 22,
   "id": "c54e6d5e-c34d-4ca1-810b-fb059117a607",
   "metadata": {},
   "outputs": [
    {
     "name": "stdout",
     "output_type": "stream",
     "text": [
      "You've earned 5 points!\n",
      "You've earned 10 points!\n",
      "You've earned 15 points!\n"
     ]
    }
   ],
   "source": [
    "# 5-5\n",
    "\n",
    "alien_color = 'green'\n",
    "\n",
    "if alien_color == 'green':\n",
    "    print(\"You've earned 5 points!\")\n",
    "elif alien_color == 'yellow':\n",
    "    print(\"You've earned 10 points!\")\n",
    "else:  # Red\n",
    "    print(\"You've earned 15 points!\")\n",
    "\n",
    "\n",
    "alien_color = 'yellow'\n",
    "\n",
    "if alien_color == 'green':\n",
    "    print(\"You've earned 5 points!\")\n",
    "elif alien_color == 'yellow':\n",
    "    print(\"You've earned 10 points!\")\n",
    "else:  # Red\n",
    "    print(\"You've earned 15 points!\")\n",
    "\n",
    "\n",
    "alien_color = 'red'\n",
    "\n",
    "if alien_color == 'green':\n",
    "    print(\"You've earned 5 points!\")\n",
    "elif alien_color == 'yellow':\n",
    "    print(\"You've earned 10 points!\")\n",
    "else:  # Red\n",
    "    print(\"You've earned 15 points!\")"
   ]
  },
  {
   "cell_type": "code",
   "execution_count": 23,
   "id": "6bd19774-75a0-4ff2-8894-9e76a85a38a1",
   "metadata": {},
   "outputs": [
    {
     "name": "stdout",
     "output_type": "stream",
     "text": [
      "You are a teenager\n"
     ]
    }
   ],
   "source": [
    "# 5-6\n",
    "\n",
    "age = 19\n",
    "\n",
    "if age < 2:\n",
    "    print(\"You are a baby\")\n",
    "elif age >= 2 and age < 4:\n",
    "    print(\"You are a toddler\")\n",
    "elif age >= 4 and age < 13:\n",
    "    print(\"You are a kid\")\n",
    "elif age >= 13 and age < 20:\n",
    "    print(\"You are a teenager\")\n",
    "elif age >= 20 and age < 65:\n",
    "    print(\"You are a adult\")\n",
    "else:\n",
    "    print(\"You are an elder\")"
   ]
  },
  {
   "cell_type": "markdown",
   "id": "003e237c-b84d-407b-a80a-83b946c4bd28",
   "metadata": {},
   "source": [
    "**Checking for Special Items**"
   ]
  },
  {
   "cell_type": "code",
   "execution_count": 24,
   "id": "cee17324-642f-4ddf-abd6-c8d502e058e9",
   "metadata": {},
   "outputs": [
    {
     "name": "stdout",
     "output_type": "stream",
     "text": [
      "You have obtained from the Grand Master: Sword\n",
      "You have obtained from the Grand Master: Shield\n",
      "You have obtained a special item from the Grand Master: Healing_Potion\n",
      "You have obtained a special item from the Grand Master: Transport_Scroll\n",
      "You have obtained from the Grand Master: Gold\n",
      "You have obtained a special item from the Grand Master: Ring_Of_Nothing\n"
     ]
    }
   ],
   "source": [
    "special_items = ['healing_potion', 'transport_scroll', 'ring_of_nothing']\n",
    "requested_items = ['sword', 'shield', 'healing_potion', 'transport_scroll', 'gold', \"ring_of_nothing\"]\n",
    "\n",
    "for item in requested_items:\n",
    "    if item in special_items:\n",
    "        print(f\"You have obtained a special item from the Grand Master: {item.title()}\")\n",
    "    else:\n",
    "        print(f\"You have obtained from the Grand Master: {item.title()}\")"
   ]
  },
  {
   "cell_type": "markdown",
   "id": "e131a1f8-3de9-481a-a223-962d9622cd9a",
   "metadata": {},
   "source": [
    "**Using Multiple Lists**"
   ]
  },
  {
   "cell_type": "markdown",
   "id": "403e788a-8fbc-406e-b051-0c1a7e25dd85",
   "metadata": {},
   "source": [
    "*Third Set of Exercisies**\n",
    "\n",
    "**Try It Yourself**\n",
    "\n",
    "**5-8. Hello Admin:**\n",
    "- Make a list of usernames including 'admin'.\n",
    "  - Loop through the list and print a greeting to each user.\n",
    "  - If the username is 'admin', print a special greeting like \"Hello admin, would you like to see a status report?\"\n",
    "  - For other users, print a generic greeting like \"Hello [Username], thank you for logging in again.\"\n",
    "\n",
    "**5-9. No Users:**\n",
    "- In your `hello_admin.py`, add a test to check if the user list is empty.\n",
    "  - If empty, print \"We need to find some users!\"\n",
    "  - Remove all usernames from your list and ensure the correct message is printed.\n",
    "\n",
    "**5-10. Checking Usernames:**\n",
    "- Simulate unique username checks for a website.\n",
    "  - Make a list of usernames called `current_users`.\n",
    "  - Create another list called `new_users`, ensuring some names overlap with `current_users`.\n",
    "  - Loop through `new_users` to check if each username is already taken. If so, prompt for a new username. If not, indicate the username is available.\n",
    "\n",
    "**5-11. Ordinal Numbers:**\n",
    "- Store numbers 1 through 9 in a list.\n",
    "  - Loop through the list.\n",
    "  - Inside the loop, use an if-elif-else chain to print the correct ordinal ending for each number (1st, 2nd, 3rd, etc.).\n",
    "  - Ensure each output is on a separate line."
   ]
  },
  {
   "cell_type": "code",
   "execution_count": 25,
   "id": "39add5dc-93f1-42bb-8e72-4d59d0245bc2",
   "metadata": {},
   "outputs": [
    {
     "name": "stdout",
     "output_type": "stream",
     "text": [
      "Hello Jaden, thank you for logging in again.\n"
     ]
    }
   ],
   "source": [
    "# 5-8\n",
    "\n",
    "username = ['admin', 'joe', 'cody', 'jack', 'ride', 'gohomes']\n",
    "if 'admin' in username:\n",
    "    print(\"Hello Jaden, thank you for logging in again.\")         "
   ]
  },
  {
   "cell_type": "code",
   "execution_count": 26,
   "id": "9578501e-a68e-4fd6-ae3c-7ccd9157809f",
   "metadata": {},
   "outputs": [
    {
     "name": "stdout",
     "output_type": "stream",
     "text": [
      "We need to find some users!\n"
     ]
    }
   ],
   "source": [
    "# 5-9\n",
    "\n",
    "username = []\n",
    "if 'admin' in username:\n",
    "    print(\"Hello Jaden, thank you for logging in again.\")\n",
    "else:\n",
    "    print(\"We need to find some users!\")  "
   ]
  },
  {
   "cell_type": "code",
   "execution_count": 27,
   "id": "291d1a5f-335a-4f9f-b9e4-9f0bfdb7edc8",
   "metadata": {},
   "outputs": [
    {
     "name": "stdout",
     "output_type": "stream",
     "text": [
      "Username 'sally' is available.\n",
      "Username 'pinkflavor' is already taken. You will need to enter a new username.\n",
      "Username 'youpop' is already taken. You will need to enter a new username.\n",
      "Username 'joe' is already taken. You will need to enter a new username.\n",
      "Username 'jack' is already taken. You will need to enter a new username.\n"
     ]
    }
   ],
   "source": [
    "# 5-10\n",
    "\n",
    "# List of current users\n",
    "current_users = ['admin', 'joe', 'cody', 'jack', 'ride', 'gohome', 'pinkflavor', 'youpop']\n",
    "current_users = [user.lower() for user in current_users] # Convert current usernames to lowercase\n",
    "\n",
    "# List of new user sign-up attempts\n",
    "new_users = ['sally', 'pinkflavor', 'youpop', 'joe', 'jack']\n",
    "\n",
    "# Loop through each new user\n",
    "for user in new_users:\n",
    "    if user in current_users:\n",
    "        print(f\"Username '{user}' is already taken. You will need to enter a new username.\")\n",
    "    else:\n",
    "        print(f\"Username '{user}' is available.\")"
   ]
  },
  {
   "cell_type": "code",
   "execution_count": 29,
   "id": "702a5ce8-2dd7-4d2f-8f23-52b9d0c13346",
   "metadata": {},
   "outputs": [
    {
     "name": "stdout",
     "output_type": "stream",
     "text": [
      "1st\n",
      "2nd\n",
      "3rd\n",
      "4th\n",
      "5th\n",
      "6th\n",
      "7th\n",
      "8th\n",
      "9th\n"
     ]
    }
   ],
   "source": [
    "# 5-11\n",
    "\n",
    "numbers = list(range(1, 10))\n",
    "\n",
    "for number in numbers:\n",
    "    if number == 1:\n",
    "        ordinal = 'st'\n",
    "    elif number == 2:\n",
    "        ordinal = 'nd'\n",
    "    elif number == 3:\n",
    "        ordinal = 'rd'\n",
    "    else:\n",
    "        ordinal = 'th'\n",
    "    \n",
    "    print(f\"{number}{ordinal}\")"
   ]
  },
  {
   "cell_type": "markdown",
   "id": "3f175e64-5f5a-427e-a20c-d80d918f7aa3",
   "metadata": {},
   "source": [
    "**Styling Your if Statements**"
   ]
  },
  {
   "cell_type": "markdown",
   "id": "6d768231-5189-4c49-96a9-1d31b4e3e94d",
   "metadata": {},
   "source": [
    "if age < 4 # Good\n",
    "\n",
    "if age<4 # Bad"
   ]
  }
 ],
 "metadata": {
  "kernelspec": {
   "display_name": "Python 3 (ipykernel)",
   "language": "python",
   "name": "python3"
  },
  "language_info": {
   "codemirror_mode": {
    "name": "ipython",
    "version": 3
   },
   "file_extension": ".py",
   "mimetype": "text/x-python",
   "name": "python",
   "nbconvert_exporter": "python",
   "pygments_lexer": "ipython3",
   "version": "3.11.6"
  }
 },
 "nbformat": 4,
 "nbformat_minor": 5
}
