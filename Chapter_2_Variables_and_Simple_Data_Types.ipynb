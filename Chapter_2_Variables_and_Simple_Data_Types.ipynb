{
 "cells": [
  {
   "cell_type": "markdown",
   "id": "dd4014cb-83ef-4568-9461-e6ac883a8cba",
   "metadata": {},
   "source": [
    "<h3> Chapter 2: Variables and Simple Data Types"
   ]
  },
  {
   "cell_type": "markdown",
   "id": "3dea6202-c59a-4fb7-b796-1b6298362d11",
   "metadata": {},
   "source": [
    "Welcome to my journey through the 'Python Crash Course' by Eric Matthes, starting with Chapter 2. I attempted to dive into this book about a year ago but needed more time to prepare for its challenges. Having gained more experience and confidence in my data science journey, I am returning to this book with a broader perspective. I may skip around and not cover everything, prioritizing concepts that are essential for my development in data science.\""
   ]
  },
  {
   "cell_type": "markdown",
   "id": "4c14aeb7-8257-458d-8b08-1c4a595a8a77",
   "metadata": {},
   "source": [
    "**Variables**"
   ]
  },
  {
   "cell_type": "code",
   "execution_count": 1,
   "id": "63b86b8e-01c9-49f9-9ef4-de85c2a2e2ba",
   "metadata": {},
   "outputs": [
    {
     "name": "stdout",
     "output_type": "stream",
     "text": [
      "Hello Python world!\n"
     ]
    }
   ],
   "source": [
    "message = \"Hello Python world!\" # 'message' is the variable\n",
    "print(message)"
   ]
  },
  {
   "cell_type": "code",
   "execution_count": 2,
   "id": "b47d8a50-795d-4e08-a233-27c4cdcfc0be",
   "metadata": {},
   "outputs": [
    {
     "name": "stdout",
     "output_type": "stream",
     "text": [
      "Hello Python world!\n",
      "Hello Python Crash Course world!\n"
     ]
    }
   ],
   "source": [
    "message = \"Hello Python world!\"\n",
    "print(message)\n",
    "\n",
    "# You can change the value of a variable in your program at any time\n",
    "\n",
    "message = \"Hello Python Crash Course world!\"\n",
    "print(message)"
   ]
  },
  {
   "cell_type": "markdown",
   "id": "1be727c8-807f-465e-a96d-2a6ca62e6095",
   "metadata": {},
   "source": [
    "**First Set of Exercises:**\n",
    "\n",
    "**Try It Yourself Exercises:**\n",
    "\n",
    "1. **2-1. Simple Message:** \n",
    "   Assign a message to a variable, then print it.\n",
    "\n",
    "2. **2-2. Simple Messages:** \n",
    "   Assign a message to a variable, print it, then change the message and print again.\n"
   ]
  },
  {
   "cell_type": "code",
   "execution_count": 3,
   "id": "45b66796-6e12-4cdf-8c9a-a243d90efe1e",
   "metadata": {},
   "outputs": [
    {
     "name": "stdout",
     "output_type": "stream",
     "text": [
      "Don't forget to drink water!\n"
     ]
    }
   ],
   "source": [
    "# 2-1\n",
    "\n",
    "note = \"Don't forget to drink water!\" # You can mix single and double quotes in a string: start and end with double quotes if you're using single quotes inside, and vice versa.\n",
    "print(note)"
   ]
  },
  {
   "cell_type": "code",
   "execution_count": 4,
   "id": "d2baa42e-24b1-48d0-94a0-aa2aa3df840f",
   "metadata": {},
   "outputs": [
    {
     "name": "stdout",
     "output_type": "stream",
     "text": [
      "The Gods of Eden\n",
      "The Psychology of Money\n"
     ]
    }
   ],
   "source": [
    "# 2-2\n",
    "\n",
    "favorite_book = \"The Gods of Eden\"\n",
    "print(favorite_book)\n",
    "\n",
    "favorite_book = \"The Psychology of Money\"\n",
    "print(favorite_book)"
   ]
  },
  {
   "cell_type": "markdown",
   "id": "cded8891-e5a7-4eee-b411-93b3da08818d",
   "metadata": {},
   "source": [
    "**Strings**"
   ]
  },
  {
   "cell_type": "code",
   "execution_count": 5,
   "id": "757e9ff3-e854-4ad9-b6c5-0f6147080e21",
   "metadata": {},
   "outputs": [
    {
     "name": "stdout",
     "output_type": "stream",
     "text": [
      "Naruto Uzumaki\n"
     ]
    }
   ],
   "source": [
    "name = \"naruto uzumaki\" # naruto uzumaki is a string\n",
    "print(name.title()) # The .title() method returns a string where the first character in every word is upper case.  \n",
    "\n",
    "# Syntax: string.title()"
   ]
  },
  {
   "cell_type": "code",
   "execution_count": 6,
   "id": "0cf0e2d8-4137-489d-a8f0-16008e5e34ba",
   "metadata": {},
   "outputs": [
    {
     "name": "stdout",
     "output_type": "stream",
     "text": [
      "NARUTO UZUMAKI\n",
      "naruto uzumaki\n"
     ]
    }
   ],
   "source": [
    "name = \"naruto uzumaki\"\n",
    "print(name.upper()) # The .upper() method returns a string where all characters are in upper case\n",
    "print(name.lower()) # The .lower() method returns a string where all characters are in lower case \n",
    "\n",
    "# Syntax: string.upper()\n",
    "# Syntax:  string.lower()"
   ]
  },
  {
   "cell_type": "markdown",
   "id": "6b17a2d7-0cce-4bfb-b7bc-afad91a767d4",
   "metadata": {},
   "source": [
    "**Using Variabels in Strings**"
   ]
  },
  {
   "cell_type": "code",
   "execution_count": 7,
   "id": "9beb373a-cdec-4410-9356-f0b1a0bce463",
   "metadata": {},
   "outputs": [
    {
     "name": "stdout",
     "output_type": "stream",
     "text": [
      "Monkey D. Luffy\n"
     ]
    }
   ],
   "source": [
    "first_name = \"luffy\"\n",
    "middle_initial = \"d\"\n",
    "last_name = \"monkey\"\n",
    "\n",
    "full_name = f\"{last_name.title()} {middle_initial.title()}. {first_name.title()}\" # Note that I've included a period in my string after middle_initial.\n",
    "\n",
    "print(full_name)\n",
    "\n",
    "# These are called f-strings. The f is for format, because Python formats the string by replacing the name of any variable in braces with the value."
   ]
  },
  {
   "cell_type": "code",
   "execution_count": 8,
   "id": "e380f165-dd7c-4a29-a1b2-7776cb44614c",
   "metadata": {},
   "outputs": [
    {
     "name": "stdout",
     "output_type": "stream",
     "text": [
      "Monkey D. Luffy will become King of the Pirates!\n"
     ]
    }
   ],
   "source": [
    "first_name = \"luffy\"\n",
    "middle_initial = \"d\"\n",
    "last_name = \"monkey\"\n",
    "\n",
    "full_name = f\"{last_name.title()} {middle_initial.title()}. {first_name.title()}\" \n",
    "print(f\"{full_name.title()} will become King of the Pirates!\")\n"
   ]
  },
  {
   "cell_type": "markdown",
   "id": "f3094743-2678-4ce8-be7c-6a3240f9b03a",
   "metadata": {},
   "source": [
    "**Adding Whitespace to Strings with tabs or Newlines**"
   ]
  },
  {
   "cell_type": "code",
   "execution_count": 9,
   "id": "f6a3f17d-a226-4ed3-86ff-9c98e80defb7",
   "metadata": {},
   "outputs": [
    {
     "name": "stdout",
     "output_type": "stream",
     "text": [
      "Bleach\n",
      "\tBleach\n"
     ]
    }
   ],
   "source": [
    "print(\"Bleach\")\n",
    "print(\"\\tBleach\")\n",
    "\n",
    "# \\t refers to Tab, which is four spaces "
   ]
  },
  {
   "cell_type": "code",
   "execution_count": 10,
   "id": "93a39bff-98c3-49b4-bfda-79a06cce4f9d",
   "metadata": {},
   "outputs": [
    {
     "name": "stdout",
     "output_type": "stream",
     "text": [
      "Big Three:\n",
      "Naruto\n",
      "Bleach\n",
      "One Piece\n"
     ]
    }
   ],
   "source": [
    "print(\"Big Three:\\nNaruto\\nBleach\\nOne Piece\")\n",
    "\n",
    "# \\n adds a newline in a string"
   ]
  },
  {
   "cell_type": "code",
   "execution_count": 11,
   "id": "9bec9d7d-3734-4677-ab78-4230ebe9a3ea",
   "metadata": {},
   "outputs": [
    {
     "name": "stdout",
     "output_type": "stream",
     "text": [
      "Big Three:\n",
      "\tNaruto\n",
      "\tBleach\n",
      "\tOne Piece\n"
     ]
    }
   ],
   "source": [
    "print(\"Big Three:\\n\\tNaruto\\n\\tBleach\\n\\tOne Piece\")\n",
    "\n",
    "# Combine \\n and \\t"
   ]
  },
  {
   "cell_type": "markdown",
   "id": "73cceeee-1220-46d2-b450-7ef0bd26ae0a",
   "metadata": {},
   "source": [
    "**Stripping Whitespace**"
   ]
  },
  {
   "cell_type": "code",
   "execution_count": 12,
   "id": "54657402-97b8-4716-9cc6-7f861693405c",
   "metadata": {},
   "outputs": [
    {
     "data": {
      "text/plain": [
       "' Hunter x Hunter 2011 '"
      ]
     },
     "execution_count": 12,
     "metadata": {},
     "output_type": "execute_result"
    }
   ],
   "source": [
    "favorite_anime = \" Hunter x Hunter 2011 \" # The string contains whitespace at the beginning and end. \n",
    "favorite_anime "
   ]
  },
  {
   "cell_type": "code",
   "execution_count": 13,
   "id": "e51dd44e-e283-42ce-975b-362d9e75a6aa",
   "metadata": {},
   "outputs": [
    {
     "data": {
      "text/plain": [
       "' Hunter x Hunter 2011'"
      ]
     },
     "execution_count": 13,
     "metadata": {},
     "output_type": "execute_result"
    }
   ],
   "source": [
    "favorite_anime = \" Hunter x Hunter 2011 \"\n",
    "favorite_anime.rstrip() # the rstrip() method removes any trailling whitespace (whitespace at the end of string)\n",
    "\n",
    "# Syntax: string.rstrip(characters)"
   ]
  },
  {
   "cell_type": "code",
   "execution_count": 14,
   "id": "ea448fd5-0b9a-4deb-8898-bc672ae8ea3c",
   "metadata": {},
   "outputs": [
    {
     "data": {
      "text/plain": [
       "'Hunter x Hunter 2011 '"
      ]
     },
     "execution_count": 14,
     "metadata": {},
     "output_type": "execute_result"
    }
   ],
   "source": [
    "favorite_anime = \" Hunter x Hunter 2011 \" \n",
    "favorite_anime.lstrip() # the lstrip() method removes any leading whitespace (whitespace at the beginning of string)\n",
    "\n",
    "# Syntax: string.lstrip(characters)"
   ]
  },
  {
   "cell_type": "code",
   "execution_count": 15,
   "id": "84e29fb8-ecf4-48c4-be0d-a5da451c95af",
   "metadata": {},
   "outputs": [
    {
     "data": {
      "text/plain": [
       "'Hunter x Hunter 2011'"
      ]
     },
     "execution_count": 15,
     "metadata": {},
     "output_type": "execute_result"
    }
   ],
   "source": [
    "favorite_anime = \" Hunter x Hunter 2011 \" \n",
    "favorite_anime.strip() # the strip() method removes any leading, and trailling whitespace (whitespace at the beginning and end of string)\n",
    "\n",
    "# Syntax: string.strip(characters)"
   ]
  },
  {
   "cell_type": "markdown",
   "id": "445dd374-d5aa-4d8c-a72f-73d66ec6a3b5",
   "metadata": {},
   "source": [
    "**Second Set of Exercises:**\n",
    "\n",
    "**Try It Yourself Exercises:**\n",
    "\n",
    "- **2-3. Personal Message:**\n",
    "  - Use a variable to represent a person's name.\n",
    "  - Print a message to that person, like \"Hello Vegeta, would you like to learn some Python today?\"\n",
    "\n",
    "- **2-4. Name Cases:**\n",
    "  - Use a variable to represent a person's name.\n",
    "  - Print the name in lowercase, uppercase, and title case.\n",
    "\n",
    "- **2-5. Famous Quote:**\n",
    "  - Find a quote from a famous person you admire.\n",
    "  - Print the quote and the author's name, e.g., \"Albert Einstein once said, 'A person who never made a mistake never tried anything new.'\"\n",
    "\n",
    "- **2-6. Famous Quote 2:**\n",
    "  - Similar to Exercise 2-5, but use a variable `hero` for the name.\n",
    "  - Compose your message in a variable `motto`.\n",
    "  - Print your message.\n",
    "\n",
    "- **2-7. Stripping Names:**\n",
    "  - Use a variable to represent a person's name, including whitespace characters (\"\\t\" and \"\\n\") at the beginning and end.\n",
    "  - Print the name with the whitespace, then use either `lstrip()`, `rstrip()`, or `strip()` functions."
   ]
  },
  {
   "cell_type": "code",
   "execution_count": 16,
   "id": "dfedf2e1-5951-4b78-b1b3-da51f9f9a1c9",
   "metadata": {},
   "outputs": [
    {
     "name": "stdout",
     "output_type": "stream",
     "text": [
      "Hello Vegeta, would you like to learn some Python today?\n"
     ]
    }
   ],
   "source": [
    "# 2-3\n",
    "\n",
    "name = \"Vegeta\"\n",
    "print(f\"Hello {name}, would you like to learn some Python today?\")"
   ]
  },
  {
   "cell_type": "code",
   "execution_count": 17,
   "id": "3cd13020-ea87-4a15-a8e0-dd5bccf0960b",
   "metadata": {},
   "outputs": [
    {
     "name": "stdout",
     "output_type": "stream",
     "text": [
      "Vegeta\n"
     ]
    }
   ],
   "source": [
    "# 2.4\n",
    "\n",
    "name = \"vegeta\"\n",
    "print(name.title())\n"
   ]
  },
  {
   "cell_type": "code",
   "execution_count": 18,
   "id": "8ebfa40f-e350-4ed1-afb4-f84b5677bad5",
   "metadata": {},
   "outputs": [
    {
     "name": "stdout",
     "output_type": "stream",
     "text": [
      "Albert Einstein once said, \"A person who never made a mistake never tried anything new.\"\n"
     ]
    }
   ],
   "source": [
    "# 2.5\n",
    "first_name = \"albert\"\n",
    "last_name = \"einstein\"\n",
    "\n",
    "print(f'{first_name.title()} {last_name.title()} once said, \"A person who never made a mistake never tried anything new.\"')"
   ]
  },
  {
   "cell_type": "code",
   "execution_count": 19,
   "id": "224b17b7-09a0-4da4-9f09-a4ab86cb9ca3",
   "metadata": {},
   "outputs": [
    {
     "name": "stdout",
     "output_type": "stream",
     "text": [
      "HAVE NO FEAR! FOR I AM HERE!!! - All Might\n"
     ]
    }
   ],
   "source": [
    "# 2.6\n",
    "\n",
    "hero = \"All Might\"\n",
    "motto = \"Have no fear! for i am here!!!\"\n",
    "\n",
    "print(f\"{motto.upper()} - {hero.title()}\")"
   ]
  },
  {
   "cell_type": "code",
   "execution_count": 20,
   "id": "35f32d09-c4d6-4cac-b542-e39b3e8af1fc",
   "metadata": {},
   "outputs": [
    {
     "name": "stdout",
     "output_type": "stream",
     "text": [
      "I am watching\n",
      "\tMy Hero Academia\n"
     ]
    },
    {
     "data": {
      "text/plain": [
       "'All for One'"
      ]
     },
     "execution_count": 20,
     "metadata": {},
     "output_type": "execute_result"
    }
   ],
   "source": [
    "# 2.7\n",
    "\n",
    "print(\"I am watching\\n\\tMy Hero Academia\")\n",
    "\n",
    "villan = \" All for One \"\n",
    "villan.strip()"
   ]
  },
  {
   "cell_type": "markdown",
   "id": "1e855096-ec5a-467b-a532-e6fc2a0458e6",
   "metadata": {},
   "source": [
    "**Numbers**\n"
   ]
  },
  {
   "cell_type": "code",
   "execution_count": 21,
   "id": "00b2b89f-04ea-4ec9-8765-4ab4662cde7e",
   "metadata": {},
   "outputs": [
    {
     "name": "stdout",
     "output_type": "stream",
     "text": [
      "5\n",
      "1\n",
      "6\n",
      "1.5\n"
     ]
    }
   ],
   "source": [
    "# You can add(+), subtract(-), multiply(*), and divide(/) integrers in Pyhton. \n",
    "\n",
    "l = 2 + 3\n",
    "o = 3 - 2\n",
    "v = 2 * 3\n",
    "e = 3 / 2\n",
    "\n",
    "print(l)\n",
    "print(o)\n",
    "print(v)\n",
    "print(e)\n"
   ]
  },
  {
   "cell_type": "code",
   "execution_count": 22,
   "id": "39bcc9b1-9591-4ac6-b45c-3c28d02d62b5",
   "metadata": {},
   "outputs": [
    {
     "name": "stdout",
     "output_type": "stream",
     "text": [
      "9\n",
      "27\n",
      "1000000\n"
     ]
    }
   ],
   "source": [
    "a = 3 ** 2\n",
    "b = 3 ** 3\n",
    "c = 10 ** 6\n",
    "\n",
    "print(a)\n",
    "print(b)\n",
    "print(c)"
   ]
  },
  {
   "cell_type": "markdown",
   "id": "dbd76e40-c978-4ecb-99ac-bddfc9eb7ae1",
   "metadata": {},
   "source": [
    "**Floats**"
   ]
  },
  {
   "cell_type": "code",
   "execution_count": 23,
   "id": "6a32034a-a982-408e-8113-14ebd3e0fcea",
   "metadata": {},
   "outputs": [
    {
     "name": "stdout",
     "output_type": "stream",
     "text": [
      "0.2\n",
      "0.1\n",
      "0.2\n",
      "2.0\n",
      "2.0\n"
     ]
    }
   ],
   "source": [
    "# Python calls any number wit ha deecimal point a float. \n",
    "\n",
    "l = 0.1 + 0.1\n",
    "u = 0.2 - 0.1\n",
    "c = 2 * 0.1\n",
    "k = 4.0 / 2.0\n",
    "y = 4 / 2 # Dividing any two numbers, even if they are integers that result in a whole number, you'll always get a float\n",
    "\n",
    "print(l)\n",
    "print(u)\n",
    "print(c)\n",
    "print(k)\n",
    "print(y)"
   ]
  },
  {
   "cell_type": "code",
   "execution_count": 24,
   "id": "75285342-9356-49a9-af5b-30f452afc547",
   "metadata": {},
   "outputs": [
    {
     "name": "stdout",
     "output_type": "stream",
     "text": [
      "3.0\n",
      "6.0\n",
      "9.0\n"
     ]
    }
   ],
   "source": [
    "# If you mix an integer and a float in any other operation, you'll get a float as well.\n",
    "\n",
    "c = 1 + 2.0\n",
    "a = 2 * 3.0\n",
    "t = 3.0 ** 2\n",
    "\n",
    "print(c)\n",
    "print(a)\n",
    "print(t)\n",
    "\n",
    "# Python defaults to a float in any operation that uses a float, even if the output is a whole number. "
   ]
  },
  {
   "cell_type": "markdown",
   "id": "8cc3b475-56f9-4255-a61c-a24324039767",
   "metadata": {},
   "source": [
    "**Underscores in Numbers**"
   ]
  },
  {
   "cell_type": "code",
   "execution_count": 25,
   "id": "ffa03118-4700-407e-8838-509cc2c80809",
   "metadata": {},
   "outputs": [
    {
     "name": "stdout",
     "output_type": "stream",
     "text": [
      "100000000000000000000000000000000000\n"
     ]
    }
   ],
   "source": [
    "saitamas_power = 100_000_000_000_000_000_000_000_000_000_000_000\n",
    "print(saitamas_power)\n",
    "\n",
    "# Python ignores the underscores "
   ]
  },
  {
   "cell_type": "markdown",
   "id": "a885496e-9580-4f88-9d40-27b66dc398db",
   "metadata": {},
   "source": [
    "**Multiple Assignment**"
   ]
  },
  {
   "cell_type": "code",
   "execution_count": 26,
   "id": "64d2bd5c-b5ba-4654-a619-cb524390d6aa",
   "metadata": {},
   "outputs": [],
   "source": [
    "x, y, z = 0, 0, 0"
   ]
  },
  {
   "cell_type": "code",
   "execution_count": 27,
   "id": "d0440306-c1a0-47c6-87ff-441d3a95e8f9",
   "metadata": {},
   "outputs": [
    {
     "name": "stdout",
     "output_type": "stream",
     "text": [
      "0\n",
      "0\n",
      "0\n"
     ]
    }
   ],
   "source": [
    "print(x)\n",
    "print(y)\n",
    "print(z)"
   ]
  },
  {
   "cell_type": "markdown",
   "id": "de1d09d4-428d-487d-b0fa-d9a54075a5e4",
   "metadata": {},
   "source": [
    "**Third Set of Exercises:**\n",
    "\n",
    "**Try It Yourself Exercises:**\n",
    "\n",
    "- **2-8. Number Eight:**\n",
    "  - Write operations (addition, subtraction, multiplication, division) that result in the number 8.\n",
    "  - Enclose each operation in a `print()` call.\n",
    "  - Example: `print(5 + 3)`\n",
    "  - Your output should be four lines, each showing the number 8.\n",
    "\n",
    "- **2-9. Favorite Number:**\n",
    "  - Use a variable to represent your favorite number.\n",
    "  - Create and print a message revealing your favorite number.\n"
   ]
  },
  {
   "cell_type": "code",
   "execution_count": 28,
   "id": "2f7544ae-794b-4702-94cf-8a58567ad829",
   "metadata": {},
   "outputs": [
    {
     "name": "stdout",
     "output_type": "stream",
     "text": [
      "8\n",
      "8\n",
      "8\n",
      "8.0\n"
     ]
    }
   ],
   "source": [
    "# 2-8\n",
    "\n",
    "e = 4 + 4\n",
    "a =11 - 3\n",
    "s = 4 * 2\n",
    "y = 16 / 2\n",
    "\n",
    "print(e)\n",
    "print(a)\n",
    "print(s)\n",
    "print(y)"
   ]
  },
  {
   "cell_type": "code",
   "execution_count": 29,
   "id": "dc71a1e8-d9d9-408e-8bc4-a6d1427a7591",
   "metadata": {},
   "outputs": [
    {
     "name": "stdout",
     "output_type": "stream",
     "text": [
      "My favorite number is 27\n"
     ]
    }
   ],
   "source": [
    "# 2-9\n",
    "\n",
    "favorite_number = 27\n",
    "print(f\"My favorite number is {favorite_number}\")"
   ]
  },
  {
   "cell_type": "markdown",
   "id": "675b1b87-2a11-499d-890e-8a8c8201c76f",
   "metadata": {},
   "source": [
    "**Summary**\n",
    "\n",
    "Revisiting the book with enhanced skills, I delved into variable assignments and explored string manipulations, learning to adjust cases and manage whitespace. The exercises allowed hands-on practice with these concepts, from assigning simple messages to variables to manipulating string attributes and experimenting with numerical operations. Understanding and utilizing these fundamental Python features is an essential step in my ongoing data science and programming journey."
   ]
  },
  {
   "cell_type": "code",
   "execution_count": null,
   "id": "1fc7495f-48b1-411d-ab93-deb4be3abca6",
   "metadata": {},
   "outputs": [],
   "source": []
  }
 ],
 "metadata": {
  "kernelspec": {
   "display_name": "Python 3 (ipykernel)",
   "language": "python",
   "name": "python3"
  },
  "language_info": {
   "codemirror_mode": {
    "name": "ipython",
    "version": 3
   },
   "file_extension": ".py",
   "mimetype": "text/x-python",
   "name": "python",
   "nbconvert_exporter": "python",
   "pygments_lexer": "ipython3",
   "version": "3.11.6"
  }
 },
 "nbformat": 4,
 "nbformat_minor": 5
}
