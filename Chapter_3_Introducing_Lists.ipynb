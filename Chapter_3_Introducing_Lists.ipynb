{
 "cells": [
  {
   "cell_type": "markdown",
   "id": "6fa94e83-e266-4cf8-91a9-06ede3f8c659",
   "metadata": {},
   "source": [
    "<h3> Chapter 3: Introducing Lists"
   ]
  },
  {
   "cell_type": "markdown",
   "id": "d9625c5e-a877-4bf7-9a65-d991b2f25f96",
   "metadata": {},
   "source": [
    "Continuing my journey with 'Python Crash Course' by Eric Matthes, I've reached Chapter 3: 'Introducing Lists'. Building upon the fundamentals covered in Chapter 2, this chapter delves into lists, a vital concept in Python. My focus here is on mastering list manipulation and understanding its applications in data organization, crucial skills in my progression in Python programming."
   ]
  },
  {
   "cell_type": "markdown",
   "id": "ce9b10cc-f1a0-44d9-ab23-324a487a5c19",
   "metadata": {},
   "source": [
    "**What is a list?**"
   ]
  },
  {
   "cell_type": "markdown",
   "id": "379ff191-1527-43ef-ab0f-8b4677e3461b",
   "metadata": {},
   "source": [
    "Python uses square brackets ([]) to indicate that a list is present, and individual items in the list are separated by commas. Here is an example of a list containing the Naruto team seven:  "
   ]
  },
  {
   "cell_type": "code",
   "execution_count": 1,
   "id": "11f72e29-3262-48b4-a465-248d113e5835",
   "metadata": {},
   "outputs": [
    {
     "name": "stdout",
     "output_type": "stream",
     "text": [
      "['naruto', 'sasuke', 'sakura', 'kakashi']\n"
     ]
    }
   ],
   "source": [
    "team_seven = ['naruto', 'sasuke', 'sakura', 'kakashi']\n",
    "print(team_seven)"
   ]
  },
  {
   "cell_type": "markdown",
   "id": "fc2a05cb-5f65-49ab-a500-6df237edb3c0",
   "metadata": {},
   "source": [
    "**Accessing Elements in a List**"
   ]
  },
  {
   "cell_type": "code",
   "execution_count": 2,
   "id": "3edfd1af-5102-42fd-8b68-c243e2127bbf",
   "metadata": {},
   "outputs": [
    {
     "name": "stdout",
     "output_type": "stream",
     "text": [
      "naruto\n",
      "Kakashi\n"
     ]
    }
   ],
   "source": [
    "team_seven = ['naruto', 'sasuke', 'sakura', 'kakashi']\n",
    "print(team_seven[0])\n",
    "\n",
    "team_seven = ['naruto', 'sasuke', 'sakura', 'kakashi']\n",
    "print(team_seven[3].title())"
   ]
  },
  {
   "cell_type": "markdown",
   "id": "d3643b36-f209-4b0e-ad95-4ca0f3fae5e1",
   "metadata": {},
   "source": [
    "**Index Positions Start at 0, Not 1**"
   ]
  },
  {
   "cell_type": "markdown",
   "id": "ba2db63e-5915-44b5-8610-9942aa76ae9b",
   "metadata": {},
   "source": [
    "Indexing in programming languages like Python starts at 0 because it's like starting at the beginning of a line. If you're at the start, you haven't moved yet, so you're at position 0. It's like saying you're at the 0th step before taking your first step. This method helps computers calculate positions in a list more easily, as the first item is right at the start, not one step away."
   ]
  },
  {
   "cell_type": "code",
   "execution_count": 3,
   "id": "3d78e304-e247-42eb-b5b3-3bf7413c80c3",
   "metadata": {},
   "outputs": [
    {
     "name": "stdout",
     "output_type": "stream",
     "text": [
      "Sakura\n",
      "Sasuke\n"
     ]
    }
   ],
   "source": [
    "team_seven = ['naruto', 'sasuke', 'sakura', 'kakashi']\n",
    "print(team_seven[2].title())\n",
    "print(team_seven[1].title())\n",
    "\n",
    "# Sakura begins at 2, not 3, while Sasuke starts at 1, not 2."
   ]
  },
  {
   "cell_type": "code",
   "execution_count": 4,
   "id": "6903cd27-0795-4253-b681-20bb5e6273cd",
   "metadata": {},
   "outputs": [
    {
     "name": "stdout",
     "output_type": "stream",
     "text": [
      "Kakashi\n"
     ]
    }
   ],
   "source": [
    "team_seven = ['naruto', 'sasuke', 'sakura', 'kakashi']\n",
    "print(team_seven[-1].title()) # [-1] returns the last element in a list."
   ]
  },
  {
   "cell_type": "markdown",
   "id": "6567e37a-1a3a-489a-ae9f-79d62ba2059a",
   "metadata": {},
   "source": [
    "**Using Individual Values from a list**"
   ]
  },
  {
   "cell_type": "code",
   "execution_count": 5,
   "id": "53b6cd69-5fcc-41ce-99f3-6ec669f668f7",
   "metadata": {},
   "outputs": [
    {
     "name": "stdout",
     "output_type": "stream",
     "text": [
      "Kakashi leads our team seven squad\n"
     ]
    }
   ],
   "source": [
    "team_seven = ['naruto', 'sasuke', 'sakura', 'kakashi']\n",
    "squad_leader = f\"{team_seven[-1].title()} leads our team seven squad\"\n",
    "print(squad_leader)"
   ]
  },
  {
   "cell_type": "markdown",
   "id": "987a4e8a-93a4-4fb4-8435-2dd41b0b095e",
   "metadata": {},
   "source": [
    "**First Set of Exercises:**\n",
    "\n",
    "**Try It Yourself Exercises:**\n",
    "\n",
    "- **3-1. Names:**\n",
    "  - Store the names of a few of your friends in a list called `friends`.\n",
    "  - Print each person's name by accessing each element in the list, one at a time.\n",
    "\n",
    "- **3-2. Greetings:**\n",
    "  - Start with the list you used in Exercise 3-1.\n",
    "  - Instead of just printing each person's name, print a message to them.\n",
    "  - The text of each message should be the same, but personalized with the person's name.\n",
    "  - Example: `print(\"Hello, \" + names[0] + \"!\")`\n",
    "\n",
    "- **3-3. Your Own List:**\n",
    "  - Think of your favorite mode of transportation and make a list of several examples.\n",
    "  - Use your list to print a series of statements about these items.\n",
    "  - Example: If your list is `vehicles = [\"Honda motorcycle\", \"Toyota car\"]`, you might print `\"I would like to own a \" + vehicles[0] + \".\"`\n"
   ]
  },
  {
   "cell_type": "code",
   "execution_count": 6,
   "id": "54a83a96-cdef-4e31-9732-32f3e4b0cec9",
   "metadata": {},
   "outputs": [
    {
     "name": "stdout",
     "output_type": "stream",
     "text": [
      "luffy\n",
      "sanji\n",
      "zoro\n"
     ]
    }
   ],
   "source": [
    "# 3-1\n",
    "\n",
    "friends = [\"luffy\", \"sanji\", \"zoro\"]\n",
    "print(friends[0])\n",
    "print(friends[1])\n",
    "print(friends[2])"
   ]
  },
  {
   "cell_type": "code",
   "execution_count": 7,
   "id": "25214b05-2dea-471c-8340-d186c25f6d7d",
   "metadata": {},
   "outputs": [
    {
     "name": "stdout",
     "output_type": "stream",
     "text": [
      "Luffy launches into his signature Gomu Gomu no Pistol\n",
      "Zoro unleashes a powerful Onigiri\n",
      "Sanji strikes with a fiery Diable Jambe, each shouting their attacks with fierce determination.\n"
     ]
    }
   ],
   "source": [
    "# 3-2\n",
    "\n",
    "friends = [\"luffy\", \"sanji\", \"zoro\"]\n",
    "print(f\"{friends[0].title()} launches into his signature Gomu Gomu no Pistol\\n{friends[2].title()} unleashes a powerful Onigiri\\n{friends[1].title()} strikes with a fiery Diable Jambe, each shouting their attacks with fierce determination.\")"
   ]
  },
  {
   "cell_type": "code",
   "execution_count": 8,
   "id": "51a659fa-3eaf-4894-ad4d-5f415f57ea30",
   "metadata": {},
   "outputs": [
    {
     "name": "stdout",
     "output_type": "stream",
     "text": [
      "my favorite car is BMW!\n"
     ]
    }
   ],
   "source": [
    "# 3-3 \n",
    "\n",
    "car = ['infiniti', 'audi', 'bmw',]\n",
    "print(f\"my favorite car is {car[2].upper()}!\")"
   ]
  },
  {
   "cell_type": "markdown",
   "id": "d5670ac6-d6a9-445c-b66d-f2d5da92a485",
   "metadata": {},
   "source": [
    "**Modifying Elements in a list**"
   ]
  },
  {
   "cell_type": "code",
   "execution_count": 9,
   "id": "0232ff36-fd5b-40ce-a755-e55cd8fbace5",
   "metadata": {},
   "outputs": [
    {
     "name": "stdout",
     "output_type": "stream",
     "text": [
      "['tree', 'moon', 'stone', 'mist', 'sound', 'wind', 'thunder', 'serpent', 'water', 'love', 'stone', 'insect', 'flower', 'flame']\n"
     ]
    }
   ],
   "source": [
    "demon_slayer = ['tree', 'moon', 'stone', 'mist', 'sound', 'wind', 'thunder', 'serpent', 'water', 'love', 'stone', 'insect', 'flower', 'flame']\n",
    "print(demon_slayer)"
   ]
  },
  {
   "cell_type": "code",
   "execution_count": 10,
   "id": "e40494e1-12da-478b-990c-a29293765627",
   "metadata": {},
   "outputs": [
    {
     "name": "stdout",
     "output_type": "stream",
     "text": [
      "[['sun'], 'moon', 'stone', 'mist', 'sound', 'wind', 'thunder', 'serpent', 'water', 'love', 'stone', 'insect', 'flower', 'flame']\n"
     ]
    }
   ],
   "source": [
    "demon_slayer[0] = ['sun']\n",
    "print(demon_slayer)"
   ]
  },
  {
   "cell_type": "markdown",
   "id": "beab1d1a-b8aa-4d25-aad4-464ca8c214f1",
   "metadata": {},
   "source": [
    "**Adding Elements to a List**"
   ]
  },
  {
   "cell_type": "code",
   "execution_count": 11,
   "id": "fd2ca123-6a50-4b89-86cf-8c50cc7430a1",
   "metadata": {},
   "outputs": [
    {
     "name": "stdout",
     "output_type": "stream",
     "text": [
      "['Snorlax', 'Politoed', 'Electrode', 'Ursaring', 'Vileplume', 'Rapidash']\n"
     ]
    }
   ],
   "source": [
    "pokemon_team = ['snorlax', 'politoed', 'electrode', 'ursaring', 'vileplume',]\n",
    "pokemon_team.append('rapidash')\n",
    "\n",
    "\n",
    "# To use the .title() method in Python to capitalize the first letter of each Pokémon name in your list, \n",
    "# you'll want to iterate through the pokemon_team list and apply .title() to each element. Here's how you can do it\n",
    "\n",
    "pokemon_team = [pokemon.title() for pokemon in pokemon_team]\n",
    "print(pokemon_team)\n",
    "\n",
    "# Syntax: list.append(elmnt)\n",
    "# elmnt = An element of any type (string, number, object etc.) "
   ]
  },
  {
   "cell_type": "markdown",
   "id": "1a85c903-0011-4075-bb09-a194b227feca",
   "metadata": {},
   "source": [
    "**Insert Elements from a list**"
   ]
  },
  {
   "cell_type": "code",
   "execution_count": 12,
   "id": "53169c80-fb4e-44d9-a34f-da47317681f5",
   "metadata": {},
   "outputs": [
    {
     "name": "stdout",
     "output_type": "stream",
     "text": [
      "['Snorlax', 'Politoed', 'Electrode', 'Ursaring', 'Vileplume', 'Rapidash']\n"
     ]
    }
   ],
   "source": [
    "pokemon_team = ['snorlax', 'politoed', 'electrode', 'ursaring', 'vileplume',]\n",
    "pokemon_team.insert(5, 'rapidash') # insert 'rapidash' in the last element\n",
    "pokemon_team = [pokemon.title() for pokemon in pokemon_team]\n",
    "print(pokemon_team)\n",
    "\n",
    "# Syntax: list.insert(pos, elmnt)"
   ]
  },
  {
   "cell_type": "markdown",
   "id": "7fd13c22-07c6-4991-923e-f967b096ea77",
   "metadata": {},
   "source": [
    "### Congratulations on reaching the halfway point in your 'Introducing Lists' assignment! Just like in a thrilling adventure story, you've embarked on a challenging journey, and every step you've taken has brought you closer to your goal.\n",
    "\n",
    "### While programming may not be everyone's quest, your journey in mastering it is truly admirable!"
   ]
  },
  {
   "cell_type": "markdown",
   "id": "672cbd3c-a4b7-413e-b319-8baf38b87844",
   "metadata": {},
   "source": [
    "**Removing an Item Using the del Statement**"
   ]
  },
  {
   "cell_type": "code",
   "execution_count": 13,
   "id": "3b668dfe-7f54-45be-9df7-3851e098792a",
   "metadata": {},
   "outputs": [
    {
     "name": "stdout",
     "output_type": "stream",
     "text": [
      "['snorlax', 'politoed', 'electrode', 'ursaring', 'vileplume', 'meowth']\n",
      "['snorlax', 'politoed', 'electrode', 'ursaring', 'vileplume']\n",
      "['Snorlax', 'Politoed', 'Electrode', 'Ursaring', 'Vileplume', 'Scizor']\n"
     ]
    }
   ],
   "source": [
    "pokemon_team = ['snorlax', 'politoed', 'electrode', 'ursaring', 'vileplume', 'meowth']\n",
    "print(pokemon_team)\n",
    "\n",
    "del pokemon_team[5] # This code removes 'meowth' from the list of pokemon\n",
    "print(pokemon_team)\n",
    "\n",
    "pokemon_team.insert(5, 'scizor') # This code inserts 'scizor; to the list as the last item\n",
    "pokemon_team = [pokemon.title() for pokemon in pokemon_team]\n",
    "print(pokemon_team)\n",
    "\n",
    "# The del keyword is used to delete objects. In Python everything is an object, so the del keyword can also be used to delete variables, lists, or parts of a list etc."
   ]
  },
  {
   "cell_type": "markdown",
   "id": "541e8df3-6d7d-453e-9d7d-5da32f38ba8e",
   "metadata": {},
   "source": [
    "**Removing an Item Using the pop() Method**"
   ]
  },
  {
   "cell_type": "code",
   "execution_count": 14,
   "id": "925146d4-b111-47ed-af29-cfcb33d7e28e",
   "metadata": {},
   "outputs": [
    {
     "name": "stdout",
     "output_type": "stream",
     "text": [
      "My favorite member on my Pokemon Team is Ursaring\n"
     ]
    }
   ],
   "source": [
    "favorite_pokemon_member = pokemon_team.pop()\n",
    "print(f\"My favorite member on my Pokemon Team is {pokemon_team[3].title()}\")\n",
    "\n",
    "# Syntax: list.pop(pos)"
   ]
  },
  {
   "cell_type": "markdown",
   "id": "53318761-e1f6-45d2-a47d-d2cf1a998d17",
   "metadata": {},
   "source": [
    "**Removing an Item by Value**\n"
   ]
  },
  {
   "cell_type": "code",
   "execution_count": 15,
   "id": "b7427cb3-f249-4d9a-9079-043c79876412",
   "metadata": {},
   "outputs": [
    {
     "name": "stdout",
     "output_type": "stream",
     "text": [
      "['seadra', 'hitmontop', 'dragonite', 'noctowl', 'sudowoodo', 'butterfree', 'grimer']\n",
      "['seadra', 'hitmontop', 'dragonite', 'noctowl', 'sudowoodo', 'butterfree']\n"
     ]
    }
   ],
   "source": [
    "random_pokemon_team = ['seadra', 'hitmontop', 'dragonite', 'noctowl', 'sudowoodo', 'butterfree', 'grimer']\n",
    "print(random_pokemon_team)\n",
    "\n",
    "random_pokemon_team.remove('grimer')\n",
    "print(random_pokemon_team)\n",
    "\n",
    "# Syntax: .remove(elmnt)"
   ]
  },
  {
   "cell_type": "markdown",
   "id": "27a29d97-9060-4452-b8d1-6475bf52ffc9",
   "metadata": {},
   "source": [
    "**Second Set of Exercises**\n",
    "\n",
    "**Try It Yourself Exercises:**\n",
    "\n",
    "- **3-4. Guest List:**\n",
    "  - Think of three pokemon and create a list of their names.\n",
    "  - Print a personalized message for one pokemon in your list.\n",
    "\n",
    "- **3-5. Changing Guest List:**\n",
    "  - Imagine one of your pokemon has to be switched out.\n",
    "  - Replace the pokemon with a new pokemon.\n",
    "  - Print a new personalized message for one pokemon.\n",
    "\n",
    "- **3-6. More Guests:**\n",
    "  - You can invite more eevee evolutions.\n",
    "  - Start with your current eevee list from Exercise 3-4 or 3-5.\n",
    "  - Announce through a print() call that you've found a new eevee evolution.\n",
    "  - Add a new eevee evolution to the beginning of your list using `insert()`.\n",
    "  - Add another eevee evolution to the middle of your list using `insert()`.\n",
    "  - Add a final eevee evolution to the end of your list using `append()`.\n",
    "\n",
    "- **3-7. Shrinking Guest List:**\n",
    "  - Due to a change in plans, you now have space for only two pokemon.\n",
    "  - Sequentially remove pokemon using `pop()` until only two remain. \n",
    "  - Finally, empty your list using `del` and print it to ensure it's empty."
   ]
  },
  {
   "cell_type": "code",
   "execution_count": 16,
   "id": "c34c4fc5-10c8-4b25-b5c6-22da6547f024",
   "metadata": {},
   "outputs": [
    {
     "name": "stdout",
     "output_type": "stream",
     "text": [
      "I pick Flareon!\n"
     ]
    }
   ],
   "source": [
    "# 3-4\n",
    "\n",
    "eevee_evolutions = ['jotleon', 'flareon', 'vaporeon']\n",
    "print(f\"I pick {eevee_evolutions[1].title()}!\")"
   ]
  },
  {
   "cell_type": "code",
   "execution_count": 17,
   "id": "323fee89-fcb6-42c3-a621-e8d28bcf7a71",
   "metadata": {},
   "outputs": [
    {
     "name": "stdout",
     "output_type": "stream",
     "text": [
      "['jotleon', 'unbreon', 'flareon']\n",
      "My new favorite Eevee Evolution is unbreon!\n"
     ]
    }
   ],
   "source": [
    "# 3-5\n",
    "\n",
    "eevee_evolutions.remove('vaporeon')\n",
    "eevee_evolutions.insert(1, 'unbreon')\n",
    "print(eevee_evolutions)\n",
    "\n",
    "print(f\"My new favorite Eevee Evolution is {eevee_evolutions[1]}!\")"
   ]
  },
  {
   "cell_type": "code",
   "execution_count": 18,
   "id": "e213bfd6-d5cb-480e-bfe0-e0cc67773f03",
   "metadata": {},
   "outputs": [
    {
     "name": "stdout",
     "output_type": "stream",
     "text": [
      "I've found a new Eevee Evolution\n",
      "['sylveon', 'jotleon', 'glaceon', 'flareon', 'leafeon', 'vaporeon']\n"
     ]
    }
   ],
   "source": [
    "# 3-6\n",
    "\n",
    "eevee_evolutions = ['jotleon', 'flareon', 'vaporeon']\n",
    "print(\"I've found a new Eevee Evolution\")\n",
    "\n",
    "eevee_evolutions.insert(0, 'sylveon')\n",
    "eevee_evolutions.insert(2, 'glaceon')\n",
    "eevee_evolutions.insert(4, 'leafeon')\n",
    "print(eevee_evolutions)"
   ]
  },
  {
   "cell_type": "code",
   "execution_count": 19,
   "id": "6d37815d-6204-4b7b-b2af-83ec56692986",
   "metadata": {},
   "outputs": [
    {
     "name": "stdout",
     "output_type": "stream",
     "text": [
      "My two Eevee Evolutions are vaporeon and leafeon!\n",
      "[]\n"
     ]
    }
   ],
   "source": [
    "# 3-7 \n",
    "\n",
    "# Pop two elements and store them in a new list\n",
    "two_eevee_evolutions = [eevee_evolutions.pop(), eevee_evolutions.pop()]\n",
    "\n",
    "# Print the two popped elements\n",
    "print(f\"My two Eevee Evolutions are {two_eevee_evolutions[0]} and {two_eevee_evolutions[1]}!\")\n",
    "\n",
    "# Delete elements from the new list using del\n",
    "del two_eevee_evolutions[:]\n",
    "print(two_eevee_evolutions)  # This will print an empty list"
   ]
  },
  {
   "cell_type": "markdown",
   "id": "bd625b4e-a7ce-4c6b-be94-f6ba9432bb8f",
   "metadata": {},
   "source": [
    "**Sorting a List permanently with the sort() Method**"
   ]
  },
  {
   "cell_type": "code",
   "execution_count": 20,
   "id": "1d2a81d1-8620-42da-af90-1c722057fa3c",
   "metadata": {},
   "outputs": [
    {
     "name": "stdout",
     "output_type": "stream",
     "text": [
      "['james', 'jessie', 'meowth']\n"
     ]
    }
   ],
   "source": [
    "team_rocket = ['jessie', 'james', 'meowth']\n",
    "team_rocket.sort()\n",
    "print(team_rocket)\n",
    "\n",
    "# The sort() method sorts the list ascending by default.\n",
    "# You can also make a function to decide the sorting criteria(s).\n",
    "\n",
    "\n",
    "# Syntax: list.sort(reverse=True|False, key=myFunc)\n",
    "\n",
    "#| Parameter | Optional/Required | Description |\n",
    "#|-----------|--------------------|-------------|\n",
    "#| reverse   | Optional           | Set `reverse=True` to sort the list in (descending order (z to a)). Default is `reverse=False`. |\n",
    "#| key       | Optional           | A function that serves as a sorting criterion. Specifies a custom logic for sorting. |"
   ]
  },
  {
   "cell_type": "markdown",
   "id": "1fbfe451-c3d3-48fd-bb50-6b668cbc2342",
   "metadata": {},
   "source": [
    "**Printing a List in Reverse Order**"
   ]
  },
  {
   "cell_type": "code",
   "execution_count": 21,
   "id": "17439cad-cf88-4ba2-8447-ed8bf1f23724",
   "metadata": {},
   "outputs": [
    {
     "name": "stdout",
     "output_type": "stream",
     "text": [
      "['meowth', 'james', 'jessie']\n"
     ]
    }
   ],
   "source": [
    "team_rocket = ['jessie', 'james', 'meowth']\n",
    "team_rocket.reverse()\n",
    "print(team_rocket)\n",
    "\n",
    "# Syntax: list.reverse()"
   ]
  },
  {
   "cell_type": "markdown",
   "id": "4f18049b-1abb-4a37-88fc-2b37a1f5e5ec",
   "metadata": {},
   "source": [
    "***Finding the Length of a List**"
   ]
  },
  {
   "cell_type": "code",
   "execution_count": 22,
   "id": "d2ec4287-f897-4b8f-9323-3f0ba5a553bb",
   "metadata": {},
   "outputs": [
    {
     "data": {
      "text/plain": [
       "14"
      ]
     },
     "execution_count": 22,
     "metadata": {},
     "output_type": "execute_result"
    }
   ],
   "source": [
    "demon_slayer = ['sun', 'moon', 'stone', 'mist', 'sound', 'wind', 'thunder', 'serpent', 'water', 'love', 'stone', 'insect', 'flower', 'flame']\n",
    "len(demon_slayer) \n",
    "\n",
    "# The len function is important because it counts how many things are in a list or a group of items. This is really useful for understanding how big your list is. \n",
    "# In my notebooks, the * next to title 'Finding the Length of a List' is very important to remember. I will include the * moving forward. "
   ]
  },
  {
   "cell_type": "markdown",
   "id": "482c1836-edac-498c-8728-a1f66d31e12a",
   "metadata": {},
   "source": [
    "**Third Set of Exercises**\n",
    "\n",
    "**Try It Yourself Exercises:**\n",
    "\n",
    "- **3-8. Seeing the World:**\n",
    "  - Create a list of at least five places in the world you’d like to visit, not in alphabetical order.\n",
    "  - Print the list in its original order.\n",
    "  - Use `sorted()` to print the list in alphabetical order without altering the original list.\n",
    "  - Show the original list order by printing it again.\n",
    "  - Use `sorted()` to print the list in reverse alphabetical order, again without changing the original list.\n",
    "  - Confirm the original order by printing the list.\n",
    "  - Use `reverse()` to change the list order, then print to show the change.\n",
    "  - Use `reverse()` again to revert to the original order and print the list.\n",
    "\n",
    "- **3-9. Dinner Guests:**\n",
    "  - Choose one of your programs from Exercises 3-4 to 3-7.\n",
    "  - Use `len()` to print a message indicating the number of people you are inviting to dinner."
   ]
  },
  {
   "cell_type": "code",
   "execution_count": 23,
   "id": "cd2bb730-6bbc-46c4-975f-e87c4bd311c2",
   "metadata": {},
   "outputs": [
    {
     "name": "stdout",
     "output_type": "stream",
     "text": [
      "['japan', 'norway', 'russia', 'mexico', 'australia']\n"
     ]
    }
   ],
   "source": [
    "# 3-8\n",
    "\n",
    "places = ['japan', 'norway', 'russia', 'mexico', 'australia']\n",
    "print(places)"
   ]
  },
  {
   "cell_type": "code",
   "execution_count": 24,
   "id": "db75e341-9a1e-4bb6-bb76-1d82194e9492",
   "metadata": {},
   "outputs": [
    {
     "name": "stdout",
     "output_type": "stream",
     "text": [
      "['australia', 'japan', 'mexico', 'norway', 'russia']\n",
      "['russia', 'norway', 'mexico', 'japan', 'australia']\n"
     ]
    }
   ],
   "source": [
    "places = ['japan', 'norway', 'russia', 'mexico', 'australia']\n",
    "\n",
    "places.sort()\n",
    "print(places)\n",
    "\n",
    "places.sort(reverse=True)\n",
    "print(places)"
   ]
  },
  {
   "cell_type": "code",
   "execution_count": 25,
   "id": "a710cade-af86-4209-90f8-eddbf6ee454b",
   "metadata": {},
   "outputs": [
    {
     "name": "stdout",
     "output_type": "stream",
     "text": [
      "['australia', 'mexico', 'russia', 'norway', 'japan']\n",
      "['japan', 'norway', 'russia', 'mexico', 'australia']\n"
     ]
    }
   ],
   "source": [
    "places = ['japan', 'norway', 'russia', 'mexico', 'australia']\n",
    "\n",
    "places.reverse()\n",
    "print(places)\n",
    "\n",
    "places = ['japan', 'norway', 'russia', 'mexico', 'australia']\n",
    "print(places)"
   ]
  },
  {
   "cell_type": "code",
   "execution_count": 26,
   "id": "df1a5fd6-2a28-4d8c-8980-6d65a02c0935",
   "metadata": {},
   "outputs": [
    {
     "data": {
      "text/plain": [
       "3"
      ]
     },
     "execution_count": 26,
     "metadata": {},
     "output_type": "execute_result"
    }
   ],
   "source": [
    "# 3-9\n",
    "\n",
    "eevee_evolutions = ['jotleon', 'flareon', 'vaporeon']\n",
    "len(eevee_evolutions)"
   ]
  }
 ],
 "metadata": {
  "kernelspec": {
   "display_name": "Python 3 (ipykernel)",
   "language": "python",
   "name": "python3"
  },
  "language_info": {
   "codemirror_mode": {
    "name": "ipython",
    "version": 3
   },
   "file_extension": ".py",
   "mimetype": "text/x-python",
   "name": "python",
   "nbconvert_exporter": "python",
   "pygments_lexer": "ipython3",
   "version": "3.11.6"
  }
 },
 "nbformat": 4,
 "nbformat_minor": 5
}
