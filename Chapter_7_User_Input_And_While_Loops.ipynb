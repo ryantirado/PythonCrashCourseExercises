{
 "cells": [
  {
   "cell_type": "markdown",
   "id": "5556dd32-ecbe-4825-aab8-5d827c409569",
   "metadata": {},
   "source": [
    "**Chapter 6: Dictionaries**"
   ]
  },
  {
   "cell_type": "markdown",
   "id": "3c89b736-b921-46d3-8e8a-4eed5a1119e1",
   "metadata": {},
   "source": [
    "Chapter 7 introduces user input and while loops, teaching how to use the `input()` function to accept text from users and employ while loops for continuous operation based on conditions. It has examples of handling user inputs, iterating with while loops, and applying concepts to manage and manipulate data in lists and dictionaries."
   ]
  },
  {
   "cell_type": "markdown",
   "id": "93a44acb-e5d5-416c-8e97-cda546f9a2be",
   "metadata": {},
   "source": [
    "**How the input() Function Works**"
   ]
  },
  {
   "cell_type": "code",
   "execution_count": null,
   "id": "ad5211ad-ea30-4fb7-a284-b8d31a73ecb0",
   "metadata": {},
   "outputs": [],
   "source": [
    "message = input(\"Hello how are you doing today: \")"
   ]
  },
  {
   "cell_type": "markdown",
   "id": "f5cbfd2d-7aac-4ca9-8552-d98c9a8adc91",
   "metadata": {},
   "source": [
    "**Writing Clear Prompts**"
   ]
  },
  {
   "cell_type": "code",
   "execution_count": null,
   "id": "0e80df82-c963-4f92-8096-587d6b9389aa",
   "metadata": {},
   "outputs": [],
   "source": [
    "name = input(\"Please enter your name: \")\n",
    "print(f\"\\nHello, {name}!\")"
   ]
  },
  {
   "cell_type": "code",
   "execution_count": null,
   "id": "e97ac825-0241-4c3b-a560-c3be65c3f282",
   "metadata": {},
   "outputs": [],
   "source": [
    "i = \"If you tell me your name, I will grant you any wish.\"\n",
    "i += \"\\nwhat is your name? \"\n",
    "\n",
    "name = input(i)\n",
    "print(f\"\\nHello, {name}!\")"
   ]
  },
  {
   "cell_type": "markdown",
   "id": "298d684c-f641-49d9-a1b7-cbc5d5a85ca1",
   "metadata": {},
   "source": [
    "**Using int() to Accept Numerical Input**"
   ]
  },
  {
   "cell_type": "code",
   "execution_count": null,
   "id": "f928be14-4d1a-4271-ad55-b59943b45738",
   "metadata": {},
   "outputs": [],
   "source": [
    "age = input(\"how old are you? \")"
   ]
  },
  {
   "cell_type": "code",
   "execution_count": null,
   "id": "1c09446d-f55a-432f-bea6-28ec2536753b",
   "metadata": {},
   "outputs": [],
   "source": [
    "# 7 should be a string, which would like like '7'\n",
    "\n",
    "age"
   ]
  },
  {
   "cell_type": "code",
   "execution_count": null,
   "id": "2ba48e24-dcd4-4f1d-b041-d94bffc1fc5f",
   "metadata": {},
   "outputs": [],
   "source": [
    "age = input(\"How old are you? \")\n",
    "age = int(age)\n",
    "age >= 18"
   ]
  },
  {
   "cell_type": "code",
   "execution_count": null,
   "id": "647a63af-c965-4fe0-a344-bf8e8fccf7a6",
   "metadata": {},
   "outputs": [],
   "source": [
    "height = input(\"How tall are you in ft? \")\n",
    "height = float(height)\n",
    "\n",
    "if height > 5.2:\n",
    "    print(\"You meet the height requirment.\")\n",
    "else:\n",
    "    print(\"You do not meet the height requirment.\")  "
   ]
  },
  {
   "cell_type": "markdown",
   "id": "c46a5b61-4646-4ba8-8b95-e113270a7b19",
   "metadata": {},
   "source": [
    "**The Modulo Operator**"
   ]
  },
  {
   "cell_type": "code",
   "execution_count": null,
   "id": "94972b4c-ebe4-4463-8260-12d9ac9661b7",
   "metadata": {},
   "outputs": [],
   "source": [
    "# 3 goes into four once with one left over. So, the answer is one because it's one left over.\n",
    "\n",
    "4 % 3"
   ]
  },
  {
   "cell_type": "code",
   "execution_count": null,
   "id": "c6712da7-02d3-450d-ad69-5160bbcba7d2",
   "metadata": {},
   "outputs": [],
   "source": [
    "# 3 goes into 6 twice, but nothing is left over, so it's zero. \n",
    "# Hint: we are only looking at the leftovers or remainder.\n",
    "\n",
    "6 % 3"
   ]
  },
  {
   "cell_type": "code",
   "execution_count": null,
   "id": "85b4f7a2-29bb-49f5-b53e-2a77b3806812",
   "metadata": {},
   "outputs": [],
   "source": [
    "# Even or Odd\n",
    "\n",
    "number = input(\"Give me an integer number, and I will tell you if it's even or odd. \")\n",
    "number = int(number)\n",
    "if number % 2 == 0: #Used to check if a number is even \n",
    "    print(f\"The number {number} is even!\")\n",
    "else:\n",
    "    print(f\"Your number {number} is odd.\")"
   ]
  },
  {
   "cell_type": "markdown",
   "id": "4d228c50-1423-47e6-b4a4-35ebe215f73b",
   "metadata": {},
   "source": [
    "**First Set of Exercises**\n",
    "\n",
    "**Try It Yourself**\n",
    "\n",
    "**7-1. Rental Car:**\n",
    "- Write a program that asks the user what kind of rental car they would like. Print a message about that car, such as “Let me see if I can find you a Subaru.”\n",
    "\n",
    "**7-2. Restaurant Seating:**\n",
    "- Write a program that asks the user how many people are in their dinner group. If the answer is more than eight, print a message say- ing they’ll have to wait for a table. Otherwise, report that their table is ready.\n",
    "\n",
    "**7-3. Multiples of Ten:**\n",
    "- Ask the user for a number, and then report whether the number is a multiple of 10 or not."
   ]
  },
  {
   "cell_type": "code",
   "execution_count": null,
   "id": "c1bfdf0e-5f6e-40a6-b7fb-7ddf9b2688ca",
   "metadata": {},
   "outputs": [],
   "source": [
    "# 7-1\n",
    "\n",
    "car = input(\"What kind of car would you like to rent? \")\n",
    "print(f\"Let me see if I can find you a {car}\")"
   ]
  },
  {
   "cell_type": "code",
   "execution_count": null,
   "id": "dcdcc67f-bf26-4630-8bd5-8e21f3d8ba09",
   "metadata": {},
   "outputs": [],
   "source": [
    "# 7-2\n",
    "\n",
    "food = input(\"How many people will be on the reservation? \")\n",
    "food = int(food)\n",
    "if food > 8:\n",
    "    print(\"We are sorry your party of {food} is too large.\")\n",
    "else:\n",
    "    print(\"We have confirmed your reservation for {food}. Thank you!\")"
   ]
  },
  {
   "cell_type": "code",
   "execution_count": null,
   "id": "202fefaf-a586-46e6-81dc-880f96f3e2b9",
   "metadata": {},
   "outputs": [],
   "source": [
    "# 7-3\n",
    "\n",
    "num = input(\"Input a number: \")\n",
    "num = int(num)\n",
    "if num % 2 == 0:\n",
    "    print(\"Even\")\n",
    "else:\n",
    "    print(\"Odd\")"
   ]
  },
  {
   "cell_type": "markdown",
   "id": "30f526ab-1fc7-458c-aa56-e32961ae1108",
   "metadata": {},
   "source": [
    "**Introducing `while` Loops**"
   ]
  },
  {
   "cell_type": "code",
   "execution_count": null,
   "id": "35aed500-7894-4a7f-8042-0d98c53eb972",
   "metadata": {},
   "outputs": [],
   "source": [
    "# You can use a while loop to count up through a series of numbers. For example, the following while loop counts from 1:\n",
    "\n",
    "current_number = 1\n",
    "while current_number <= 27:\n",
    "    print(current_number)\n",
    "    current_number += 1"
   ]
  },
  {
   "cell_type": "markdown",
   "id": "97854eb2-c31c-47a9-8b95-8f793d271e44",
   "metadata": {},
   "source": [
    "**Letting the User Choose When to Quit**"
   ]
  },
  {
   "cell_type": "code",
   "execution_count": null,
   "id": "51e7d920-f489-4851-a9f9-dc32a9b7441a",
   "metadata": {},
   "outputs": [],
   "source": [
    "# Don't be scared. This code provides prompts; the (message = \"\") just means it will take your output. \n",
    "# The while loop will continue until you give it a quit.\n",
    "\n",
    "prompt = \"\\nTell me something, and I will repeat it back to you:\"\n",
    "prompt += \"\\nEnter 'quit' to end the program. \"\n",
    "message = \"\"\n",
    "while message != \"quit\":\n",
    "    message = input(prompt)\n",
    "    print(message)"
   ]
  },
  {
   "cell_type": "code",
   "execution_count": null,
   "id": "314e9a5b-ca02-485f-ada2-e57419bd7382",
   "metadata": {},
   "outputs": [],
   "source": [
    "# If you don't prefer having quit in the output, you can do this: \n",
    "\n",
    "prompt = \"\\nTell me something, and I will repeat it back to you:\"\n",
    "prompt += \"\\nEnter 'quit' to end the program. \"\n",
    "\n",
    "active = True\n",
    "while active:\n",
    "    message = input(prompt)\n",
    "\n",
    "    if message == 'quit':\n",
    "        active = False\n",
    "    else:\n",
    "        print(message)"
   ]
  },
  {
   "cell_type": "markdown",
   "id": "cb005dc4-2889-4ca0-b048-6155842095e2",
   "metadata": {},
   "source": [
    "**Using a Flag**"
   ]
  },
  {
   "cell_type": "code",
   "execution_count": null,
   "id": "ff21ed42-ec9a-4909-ac6b-71c2529d9881",
   "metadata": {},
   "outputs": [],
   "source": [
    "prompt = \"\\nTell me something, and I will repeat it back to you:\"\n",
    "prompt += \"\\nEnter 'quit' to end the program. \"\n",
    "message = \"\"\n",
    "while message != \"quit\":\n",
    "    message = input(prompt)\n",
    "\n",
    "    if message != 'quit':\n",
    "        print(message)"
   ]
  },
  {
   "cell_type": "markdown",
   "id": "b95c2a50-ad21-46f1-83b4-0b052f13f595",
   "metadata": {},
   "source": [
    "**Using break to Exit a Loop**"
   ]
  },
  {
   "cell_type": "code",
   "execution_count": null,
   "id": "0f90ca56-877f-456f-bb7c-d647efbb102e",
   "metadata": {},
   "outputs": [],
   "source": [
    "prompt = \"\\nPlease enter the name of a city you have visited:\"\n",
    "prompt += \"\\n(Enter 'quit' when you are finished.) \"\n",
    "\n",
    "while True:\n",
    "    city = input(prompt)\n",
    "\n",
    "    if city == 'quit':\n",
    "        break\n",
    "    else:\n",
    "        print(f\"I'd love to go to {city.title()}\")"
   ]
  },
  {
   "cell_type": "markdown",
   "id": "09c8f91a-acda-477e-8e19-c3aa9a237f31",
   "metadata": {},
   "source": [
    "**Using continue in a Loop**"
   ]
  },
  {
   "cell_type": "code",
   "execution_count": null,
   "id": "bfba9281-e5d5-42da-8fd6-154f2efc213c",
   "metadata": {},
   "outputs": [],
   "source": [
    "current_number = 0\n",
    "while current_number < 10:\n",
    "    current_number += 1\n",
    "    if current_number % 2 == 0:\n",
    "        continue\n",
    "    print(current_number)"
   ]
  },
  {
   "cell_type": "markdown",
   "id": "9afee20c-1c56-4a15-96d6-893d8b024d47",
   "metadata": {},
   "source": [
    "**Avoiding Infinite Loops**"
   ]
  },
  {
   "cell_type": "code",
   "execution_count": null,
   "id": "ce500b18-e736-4d83-a418-670c83d9707c",
   "metadata": {},
   "outputs": [],
   "source": [
    "x = 1\n",
    "while x <= 7:\n",
    "    print(x)\n",
    "    x += 1 # If you remove this line of code the program will run forever"
   ]
  },
  {
   "cell_type": "markdown",
   "id": "8f596363-dd3e-4efb-a02b-47c1f19d34d8",
   "metadata": {},
   "source": [
    "**First Set of Exercises**\n",
    "\n",
    "**Try It Yourself**\n",
    "\n",
    "**7-4. Pizza Toppings:** \n",
    "- Write a loop that prompts the user to enter a series of pizza toppings until they enter a 'quit' value. As they enter each topping, print a message saying you’ll add that topping to their pizza.\n",
    "\n",
    "**7-5. Movie Tickets:**\n",
    "- A movie theater charges different ticket prices depending on a person’s age. If a person is under the age of 3, the ticket is free; if they are between 3 and 12, the ticket is 10 dollars and if they are over age 12, the ticket is 15 dollars. Write a loop in which you ask users their age, and then tell them the cost of their movie ticket.\n",
    "\n",
    "**7-6. Three Exits:** Write different versions of either Exercise 7-4 or Exercise 7-5 that do each of the following at least once:\n",
    "- Use a conditional test in the while statement to stop the loop.\n",
    "- Use an active variable to control how long the loop runs.\n",
    "- Use a break statement to exit the loop when the user enters a 'quit' value.\n",
    "\n",
    "**7-7. Infinity:** \n",
    "- Write a loop that never ends, and run it. (To end the loop, press ctrl-C or close the window displaying the output"
   ]
  },
  {
   "cell_type": "code",
   "execution_count": null,
   "id": "05f0c8cd-bd9f-48e1-82b1-8bf621486996",
   "metadata": {},
   "outputs": [],
   "source": [
    "# 7-4\n",
    "\n",
    "pizza = \"Please select your toppings for your pizza! \"\n",
    "active = True\n",
    "while active:\n",
    "    message = input(pizza)\n",
    "\n",
    "    if message == 'quit':\n",
    "        active = False\n",
    "    else:\n",
    "        print(f'adding {message} to your order')"
   ]
  },
  {
   "cell_type": "code",
   "execution_count": null,
   "id": "22dc983f-67a9-4269-8cba-08ee5f2a773b",
   "metadata": {},
   "outputs": [],
   "source": [
    "# 7-5\n",
    "\n",
    "age = input('How old are you? :')\n",
    "age = int(age)\n",
    "if age < 3:\n",
    "    print('The ticket is free.')\n",
    "elif age >= 3 and age < 12:\n",
    "    print('The ticket is 10$')\n",
    "else:\n",
    "    print('The ticket is 15$')\n"
   ]
  },
  {
   "cell_type": "code",
   "execution_count": null,
   "id": "ea61909c-5470-450d-a2fa-b3155873d574",
   "metadata": {},
   "outputs": [],
   "source": [
    "# 7-7 \n",
    "active = True\n",
    "\n",
    "while active:\n",
    "    age_input = input('How old are you? {Enter \"quit\" to exit): ')\n",
    "\n",
    "    if age_input.lower() == 'quit':\n",
    "        break\n",
    "\n",
    "    try:\n",
    "        age = int(age_input)\n",
    "    except ValueError:\n",
    "        print('Please enter a valid number or \"quit\" to exit.')\n",
    "        continue\n",
    "\n",
    "    if age < 3:\n",
    "        print('The ticket is free')\n",
    "    elif age < 12:\n",
    "        print('The ticket is $10')\n",
    "    else:\n",
    "        print('The ticker is $15')"
   ]
  },
  {
   "cell_type": "code",
   "execution_count": null,
   "id": "bff5de65-952a-482a-b0fa-2fb83930a15e",
   "metadata": {},
   "outputs": [],
   "source": [
    "# num = 1\n",
    "# while num < 5:\n",
    "#     print(num)"
   ]
  },
  {
   "cell_type": "markdown",
   "id": "a2df3fd2-6c06-4dcd-89d5-0962e70d4839",
   "metadata": {},
   "source": [
    "**Using a `while` Loop with Lists and Dictionaries**"
   ]
  },
  {
   "cell_type": "code",
   "execution_count": null,
   "id": "acdf03c4-de8a-4909-915b-ea9ba930c73e",
   "metadata": {},
   "outputs": [],
   "source": [
    "unconfirmed_users = ['alice', 'kevin', 'dog']\n",
    "confirmed_users = []\n",
    "\n",
    "while unconfirmed_users:\n",
    "    current_user = unconfirmed_users.pop()\n",
    "\n",
    "    print(f\"Verifying user: {current_user.title()}\")\n",
    "    confirmed_users.append(current_user)\n",
    "\n",
    "print(\"\\nThe following users have been confirmed:\")\n",
    "for confirmed_user in confirmed_users:\n",
    "    print(confirmed_user.title())"
   ]
  },
  {
   "cell_type": "markdown",
   "id": "4f4809ee-1568-4111-83f2-5e57513c5d5c",
   "metadata": {},
   "source": [
    "**Removing All Instances of Specific Values from a List**"
   ]
  },
  {
   "cell_type": "code",
   "execution_count": null,
   "id": "6cbc2ae0-25a9-434f-8b8f-5a619daaa45d",
   "metadata": {},
   "outputs": [],
   "source": [
    "pets = ['dog', 'veve', 'cat', 'goldfishy', 'snake', 'deer', 'peter']\n",
    "print(pets)\n",
    "\n",
    "while 'cat' in pets:\n",
    "    pets.remove('cat')\n",
    "\n",
    "print(pets)"
   ]
  },
  {
   "cell_type": "markdown",
   "id": "b6087e66-e6de-46a2-b43f-0d9f2eb9c0ad",
   "metadata": {},
   "source": [
    "**Filling a Dictionary with User Input**"
   ]
  },
  {
   "cell_type": "code",
   "execution_count": null,
   "id": "a75d051d-57c2-4431-afbd-f461b2a7cd46",
   "metadata": {},
   "outputs": [],
   "source": [
    "responses = {}\n",
    "\n",
    "polling_active = True\n",
    "\n",
    "while polling_active:\n",
    "    name = input('\\nWhat is your name? ')\n",
    "    response = input('Which state would you like to visit? ')\n",
    "\n",
    "    responses[name] = response\n",
    "\n",
    "    repeat = input('Would you like to let another person respond (yes/ no) ')\n",
    "    if repeat == 'no':\n",
    "        polling_active = False\n",
    "\n",
    "print(\"\\n--- Poll Results ---\")\n",
    "for name, response in responses.items():\n",
    "    print(f\"{name} would like to climb {response}.\")             "
   ]
  },
  {
   "cell_type": "markdown",
   "id": "ed70d4c3-ebe6-4ea1-9b4f-403db145df68",
   "metadata": {},
   "source": [
    "**Third Set of Exercises**\n",
    "\n",
    "**Try It Yourself**\n",
    "\n",
    "**7-8. Deli:** \n",
    "- Make a list called sandwich_orders and fill it with the names of vari- ous sandwiches. Then make an empty list called finished_sandwiches. Loop through the list of sandwich orders and print a message for each order, such as I made your tuna sandwich. As each sandwich is made, move it to the list of finished sandwiches. After all the sandwiches have been made, print a message listing each sandwich that was made.\n",
    "\n",
    "**7-9. No Pastrami:**\n",
    "- Using the list sandwich_orders from Exercise 7-8, make sure the sandwich 'pastrami' appears in the list at least three times. Add code near the beginning of your program to print a message saying the deli has run out of pastrami, and then use a while loop to remove all occurrences of 'pastrami' from sandwich_orders. Make sure no pastrami sandwiches end up in finished_sandwiches."
   ]
  },
  {
   "cell_type": "code",
   "execution_count": null,
   "id": "991cd8f4-12cb-4fb7-b2df-d61304e1c3a0",
   "metadata": {},
   "outputs": [],
   "source": [
    "# 7-8\n",
    "\n",
    "sandwich_orders = ['ham_cheese_sandwich', 'pork_sandwich', 'pbj_sandwich', 'steak_sandwich']\n",
    "finished_sandwiches = []\n",
    "\n",
    "for sandwich in sandwich_orders:\n",
    "    print(f\"Your {sandwich} is being prepared!\")\n",
    "    finished_sandwiches.append(sandwich)\n",
    "\n",
    "print(\"\\nThe following sandwiches have been made:\")\n",
    "for sandwich in finished_sandwiches:\n",
    "    print(sandwich)"
   ]
  },
  {
   "cell_type": "code",
   "execution_count": null,
   "id": "a671b33a-0100-4dd7-9fc6-05ef52e4ac79",
   "metadata": {},
   "outputs": [],
   "source": [
    "# 7-9\n",
    "\n",
    "# Initial list with 'pastrami' added three times\n",
    "sandwich_orders = ['ham_cheese', 'pastrami', 'pork_sandwich', 'pbj_sandwich', 'pastrami', 'steak_sandwich', 'pastrami']\n",
    "finished_sandwiches = []\n",
    "\n",
    "# Informing the user that the deli has run out of pastrami\n",
    "print(\"We're sorry, but the deli has run out of pastrami.\")\n",
    "\n",
    "# Removing all occurrences of 'pastrami'\n",
    "while 'pastrami' in sandwich_orders:\n",
    "    sandwich_orders.remove('pastrami')\n",
    "\n",
    "# Proceeding with the remaining sandwiches\n",
    "for sandwich in sandwich_orders:\n",
    "    print(f\"Your {sandwich} is ready!\")\n",
    "    finished_sandwiches.append(sandwich)\n",
    "\n",
    "print(\"\\nThe following sandwiches have been made:\")\n",
    "for sandwich in finished_sandwiches:\n",
    "    print(sandwich)\\"
   ]
  }
 ],
 "metadata": {
  "kernelspec": {
   "display_name": "Python 3 (ipykernel)",
   "language": "python",
   "name": "python3"
  },
  "language_info": {
   "codemirror_mode": {
    "name": "ipython",
    "version": 3
   },
   "file_extension": ".py",
   "mimetype": "text/x-python",
   "name": "python",
   "nbconvert_exporter": "python",
   "pygments_lexer": "ipython3",
   "version": "3.11.6"
  }
 },
 "nbformat": 4,
 "nbformat_minor": 5
}
