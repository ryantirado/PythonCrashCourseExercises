{
 "cells": [
  {
   "cell_type": "markdown",
   "id": "45ceff71-750e-4f2d-a4eb-185a7768e9fe",
   "metadata": {},
   "source": [
    "**Chapter 6: Dictionaries**"
   ]
  },
  {
   "cell_type": "markdown",
   "id": "6f3d83e9-2612-4b5f-8640-e8bc9c88506c",
   "metadata": {},
   "source": [
    "The sixth chapter of \"Python Crash Course\" covers Python dictionaries, teaching how to create, access, and modify them. It explores using dictionaries to model real-world objects, looping through dictionary data, and nesting dictionaries within other dictionaries and lists. This chapter is crucial for mastering complex data management in Python."
   ]
  },
  {
   "cell_type": "markdown",
   "id": "16905049-38b1-4716-a9ff-ebb8e407eb17",
   "metadata": {},
   "source": [
    "**A Simple Dictionary**"
   ]
  },
  {
   "cell_type": "code",
   "execution_count": 1,
   "id": "f2d3a284-cd63-4bdd-ba97-00edace5be75",
   "metadata": {},
   "outputs": [],
   "source": [
    "# The 'monster' dictionary represents a creature in a fantasy setting.\n",
    "# 'color': Describes the monster's appearance/coloration.\n",
    "# 'power': Indicates the monster's power level, reflecting its strength and combat capabilities.\n",
    "# Additional attributes like 'element', 'hit_points', 'weakness', 'abilities', and 'loot' can be included\n",
    "# to provide a more comprehensive description of the monster's characteristics and what it can offer in a game scenario.\n",
    "\n",
    "monster = {\n",
    "    'color': 'red',\n",
    "    'power': 5,\n",
    "    'element': 'fire',\n",
    "    'hit_points': 50,\n",
    "    'weakness': ['water', 'ice'],\n",
    "    'abilities': ['flame breath', 'fierce claw'],\n",
    "    'loot': ['charred scale', 'mystic ember']\n",
    "}"
   ]
  },
  {
   "cell_type": "markdown",
   "id": "44d102fa-c6cc-4683-bdb6-991de0f24b50",
   "metadata": {},
   "source": [
    "**Working with Dictionaries**"
   ]
  },
  {
   "cell_type": "markdown",
   "id": "004a5273-03c1-4ee7-a69f-6327f50a045f",
   "metadata": {},
   "source": [
    "A dictionary in Python is a collection of key-value pairs. Each key is connected to a value, and you can use a key to access the value associated with that key. A key’s value can be a number, a string, a list, or even another dictionary.\n",
    "In fact, you can use any object that you can create in Python as a value in a dictionary.\n",
    "In Python, a dictionary is wrapped in braces, {}, with a series of key­ value pairs inside the braces, as shown in the earlier example:"
   ]
  },
  {
   "cell_type": "code",
   "execution_count": 2,
   "id": "ae862621-495e-45a8-8e76-467642268044",
   "metadata": {},
   "outputs": [],
   "source": [
    "# In a key-value pair, a unique key is associated with a specific value. This concept is used in dictionaries for efficient data storage and retrieval.\n",
    "\n",
    "# Example using a 'monster' dictionary: \n",
    "# key = 'color'\n",
    "# value = 'red'\n",
    "# In this case, 'color' is the key, and 'red' is the value associated with this key, representing the color of the monster.\n",
    "\n",
    "monster = {\n",
    "    'color': 'red',\n",
    "    'power': 5,\n",
    "    'element': 'fire',\n",
    "    'hit_points': 50,\n",
    "    'weakness': ['water', 'ice'],\n",
    "    'abilities': ['flame breath', 'fierce claw'],\n",
    "    'loot': ['charred scale', 'mystic ember']\n",
    "}"
   ]
  },
  {
   "cell_type": "markdown",
   "id": "7f9c3dd3-f863-4e6c-a42b-5c128c7fb741",
   "metadata": {},
   "source": [
    "**Assessing Values in a Dictionary**"
   ]
  },
  {
   "cell_type": "code",
   "execution_count": 3,
   "id": "07f03e20-bb17-4844-a0d6-f7430ca0635f",
   "metadata": {},
   "outputs": [
    {
     "name": "stdout",
     "output_type": "stream",
     "text": [
      "Fire is not very effective against the monster\n"
     ]
    }
   ],
   "source": [
    "# Define a dictionary for a monster with various attributes\n",
    "monster = {\n",
    "    'color': 'red',\n",
    "    'power': 5,\n",
    "    'element': 'fire',\n",
    "    # ... other attributes ...\n",
    "}\n",
    "\n",
    "# Accessing the monster's elemental attribute\n",
    "monster_resistance = monster['element']\n",
    "\n",
    "# Print the monster's resistance\n",
    "print(f\"{monster_resistance.title()} is not very effective against the monster\")"
   ]
  },
  {
   "cell_type": "markdown",
   "id": "0f0d5bad-1c07-4488-85a9-220367c614b2",
   "metadata": {},
   "source": [
    "**Adding New Key-Value Pairs**"
   ]
  },
  {
   "cell_type": "code",
   "execution_count": 4,
   "id": "ec066fc3-213f-4a78-8fbb-26ab1b0e3aeb",
   "metadata": {},
   "outputs": [
    {
     "name": "stdout",
     "output_type": "stream",
     "text": [
      "{'color': 'red', 'power': 5, 'element': 'fire', 'x_position': 0, 'y_position': 25}\n"
     ]
    }
   ],
   "source": [
    "monster = {\n",
    "    'color': 'red',\n",
    "    'power': 5,\n",
    "    'element': 'fire',\n",
    "    # ... other attributes ...\n",
    "}\n",
    "\n",
    "# 'x_position' and 'y_position' represent the monster's location in a 2D space.\n",
    "monster['x_position'] = 0\n",
    "monster['y_position'] = 25\n",
    "\n",
    "# Print the updated dictionary to show the new position attributes\n",
    "print(monster)"
   ]
  },
  {
   "cell_type": "markdown",
   "id": "0559adcb-b131-4fb5-a965-46d0b21dece9",
   "metadata": {},
   "source": [
    "**Starting with an Empty Dictionary**"
   ]
  },
  {
   "cell_type": "code",
   "execution_count": 5,
   "id": "7d91a2e6-e846-44a7-ac30-bcd09cf050d4",
   "metadata": {},
   "outputs": [
    {
     "name": "stdout",
     "output_type": "stream",
     "text": [
      "{'color': 'red', 'power': 5}\n"
     ]
    }
   ],
   "source": [
    "monster = {}\n",
    "\n",
    "monster['color'] = 'red'\n",
    "monster['power'] = 5\n",
    "\n",
    "print(monster)"
   ]
  },
  {
   "cell_type": "markdown",
   "id": "1f7a1f63-1081-4290-a098-48bbbe68aff2",
   "metadata": {},
   "source": [
    "**Modifying Values in a Dictionary**"
   ]
  },
  {
   "cell_type": "code",
   "execution_count": 6,
   "id": "d420d989-dfd4-4461-b76c-dabc46eb1ca9",
   "metadata": {},
   "outputs": [
    {
     "name": "stdout",
     "output_type": "stream",
     "text": [
      "Gleaming in the dim light, the monster reveals its red color.\n",
      "In a whirlwind of mystical energy, the monster has undergone a stunning transformation and emerged with a vibrant black hue!\n"
     ]
    }
   ],
   "source": [
    "monster = {'color': 'red'}\n",
    "print(f\"Gleaming in the dim light, the monster reveals its {monster['color']} color.\")\n",
    "\n",
    "monster['color'] = 'black'\n",
    "print(f\"In a whirlwind of mystical energy, the monster has undergone a stunning transformation and emerged with a vibrant {monster['color']} hue!\")"
   ]
  },
  {
   "cell_type": "code",
   "execution_count": 7,
   "id": "3f9f9248-637d-4c34-8e5e-b6770c00237a",
   "metadata": {},
   "outputs": [
    {
     "name": "stdout",
     "output_type": "stream",
     "text": [
      "Original position: 0\n",
      "New position: 2\n"
     ]
    }
   ],
   "source": [
    "monster = {'x_position': 0, 'y_position': 25, 'speed': 'medium'}\n",
    "print(f\"Original position: {monster['x_position']}\")\n",
    "\n",
    "if monster['speed'] == 'slow':\n",
    "    x_increment = 1\n",
    "elif monster['speed'] == 'medium':\n",
    "    x_increment = 2\n",
    "else:\n",
    "    x_increment = 3\n",
    "\n",
    "monster['x_position'] = monster['x_position'] + x_increment\n",
    "print(f\"New position: {monster['x_position']}\")"
   ]
  },
  {
   "cell_type": "markdown",
   "id": "dd9cfeba-a276-4571-913b-671aa13b5a52",
   "metadata": {},
   "source": [
    "**Removing Key-Value Pairs**"
   ]
  },
  {
   "cell_type": "code",
   "execution_count": 8,
   "id": "efc3afe8-220f-42f7-b966-ea90f41e44ae",
   "metadata": {},
   "outputs": [
    {
     "name": "stdout",
     "output_type": "stream",
     "text": [
      "{'color': 'red', 'element': 'fire'}\n"
     ]
    }
   ],
   "source": [
    "monster = {\n",
    "    'color': 'red',\n",
    "    'power': 5,\n",
    "    'element': 'fire',\n",
    "    # ... other attributes ...\n",
    "}\n",
    "\n",
    "del monster['power']\n",
    "print(monster)"
   ]
  },
  {
   "cell_type": "markdown",
   "id": "a8a1ba31-6f2e-44e3-b778-5fb34099078d",
   "metadata": {},
   "source": [
    "**A Dictionary of Similar Objects**"
   ]
  },
  {
   "cell_type": "code",
   "execution_count": 9,
   "id": "c07dd86b-4067-4ce9-a63f-86851efabfca",
   "metadata": {},
   "outputs": [
    {
     "name": "stdout",
     "output_type": "stream",
     "text": [
      "Ryan's favorite build is Warrior\n"
     ]
    },
    {
     "data": {
      "text/plain": [
       "'warrior'"
      ]
     },
     "execution_count": 9,
     "metadata": {},
     "output_type": "execute_result"
    }
   ],
   "source": [
    "favorite_build = {\n",
    "    'ryan': 'warrior',\n",
    "    'veronica': 'necromancer',\n",
    "    'lucy': 'monster',\n",
    "    'rangar': 'wizard',\n",
    "    'rollo': 'archer',\n",
    "}\n",
    "\n",
    "build = favorite_build['ryan'].title()\n",
    "print(f\"Ryan's favorite build is {build}\")\n",
    "\n",
    "favorite_build['ryan']"
   ]
  },
  {
   "cell_type": "markdown",
   "id": "f79b136a-ee91-47ef-a443-a0abed0cf194",
   "metadata": {},
   "source": [
    "**Using get() to Access Values**"
   ]
  },
  {
   "cell_type": "markdown",
   "id": "c500bad1-1b56-41d8-8161-767eb577372d",
   "metadata": {},
   "source": [
    "The code uses Python's dictionary get method to retrieve a game class for 'oliver' from favorite_build. Since 'oliver' isn't in the dictionary, it returns a default message, demonstrating safe data retrieval with fallback handling in Python."
   ]
  },
  {
   "cell_type": "code",
   "execution_count": 10,
   "id": "27abcd81-b04a-494c-b48d-517e254aa492",
   "metadata": {},
   "outputs": [
    {
     "name": "stdout",
     "output_type": "stream",
     "text": [
      "Oliver does not have a favorite build.\n"
     ]
    }
   ],
   "source": [
    "favorite_build = {\n",
    "    'ryan': 'warrior',\n",
    "    'veronica': 'necromancer',\n",
    "    'lucy': 'monster',\n",
    "    'rangar': 'wizard',\n",
    "    'rollo': 'archer',\n",
    "}\n",
    "\n",
    "oliver_build = favorite_build.get('oliver', 'Oliver does not have a favorite build.')\n",
    "print(oliver_build)\n",
    "\n",
    "# Syntax: dictionary.get(keyname, value)\n",
    "\n",
    "## Parameter Values\n",
    "\n",
    "# | Parameter | Description |\n",
    "# |-----------|-------------|\n",
    "# | `keyname` | Required. The keyname of the item from which you want to return the value. |\n",
    "# | `value`   | Optional. A value to return if the specified key does not exist. Default value is `None`. |"
   ]
  },
  {
   "cell_type": "markdown",
   "id": "dd5c4f9e-695d-4c7c-8c58-db9f0963131f",
   "metadata": {},
   "source": [
    "**First Set of Exercises**\n",
    "\n",
    "**Try It Yourself**\n",
    "\n",
    "**6-1. Person:** \n",
    "Use a dictionary to store information about a person you know. Store their first name, last name, age, and the city in which they live. You should have keys such as `first_name`, `last_name`, `age`, and `city`. Print each piece of information stored in your dictionary.\n",
    "\n",
    "**6-2. Favorite Numbers:** \n",
    "Use a dictionary to store people’s favorite numbers. Think of five names, and use them as keys in your dictionary. Think of a favorite number for each person, and store each as a value in your dictionary. Print each person’s name and their favorite number. For even more fun, poll a few friends and get some actual data for your program."
   ]
  },
  {
   "cell_type": "code",
   "execution_count": 11,
   "id": "672998e8-e842-47b2-ab63-411414889a9a",
   "metadata": {},
   "outputs": [],
   "source": [
    "# 6-1\n",
    "\n",
    "player_01 = {\n",
    "    'first_name': 'yuno', \n",
    "    'last_name': 'gasai', \n",
    "    'age': 14, \n",
    "    'city': 'sakurami'\n",
    "}"
   ]
  },
  {
   "cell_type": "code",
   "execution_count": 12,
   "id": "e486a37c-2b0f-4b37-bf5f-c07fb2b3f0f6",
   "metadata": {},
   "outputs": [
    {
     "name": "stdout",
     "output_type": "stream",
     "text": [
      "{'thunderlord': 1, 'starshard': 2, 'frostbane': 3, 'ironheart': 4, 'nightstalker': 5}\n"
     ]
    }
   ],
   "source": [
    "# 6-2\n",
    "\n",
    "favorite_numbers = {\n",
    "    'thunderlord': 1,\n",
    "    'starshard': 2,\n",
    "    'frostbane': 3,\n",
    "    'ironheart': 4,\n",
    "    'nightstalker': 5,\n",
    "}\n",
    "\n",
    "print(favorite_numbers)"
   ]
  },
  {
   "cell_type": "markdown",
   "id": "90b568b7-5794-4b8c-bb91-5bfe81f8c523",
   "metadata": {},
   "source": [
    "## Midway Inspiration\n",
    "\n",
    "> **Pursue Your Dreams**\n",
    ">\n",
    "> \"No matter how deep the night, it always turns to day, eventually.\"\n",
    "> — Brook, One Piece"
   ]
  },
  {
   "cell_type": "markdown",
   "id": "7eb390f6-de90-44ec-b1b2-92fac2d94814",
   "metadata": {},
   "source": [
    "**Looping Through All Key-Value Pairs**"
   ]
  },
  {
   "cell_type": "code",
   "execution_count": 13,
   "id": "c1fc63d7-6ee4-4cf1-8217-bdc3c715db85",
   "metadata": {},
   "outputs": [
    {
     "name": "stdout",
     "output_type": "stream",
     "text": [
      "\n",
      "Key: first_name\n",
      "\n",
      "Value: yuno\n",
      "\n",
      "Key: last_name\n",
      "\n",
      "Value: gasai\n",
      "\n",
      "Key: age\n",
      "\n",
      "Value: 14\n",
      "\n",
      "Key: city\n",
      "\n",
      "Value: sakurami\n"
     ]
    }
   ],
   "source": [
    "player_01 = {\n",
    "    'first_name': 'yuno', \n",
    "    'last_name': 'gasai', \n",
    "    'age': 14, \n",
    "    'city': 'sakurami'\n",
    "}\n",
    "\n",
    "# The items() method returns a view object. The view object contains the key-value pairs of the dictionary, as tuples in a list.\n",
    "for key, value in player_01.items():\n",
    "    print(f\"\\nKey: {key}\")\n",
    "    print(f\"\\nValue: {value}\")\n",
    "\n",
    "# Syntax: dictionary.items()"
   ]
  },
  {
   "cell_type": "markdown",
   "id": "50b23b2f-97ca-4965-b1fc-1b3ce9543fa5",
   "metadata": {},
   "source": [
    "**Looping Though All the Keys in a Dictionary**"
   ]
  },
  {
   "cell_type": "code",
   "execution_count": 14,
   "id": "7694452b-1f4e-424b-86d4-66bc0b0e2520",
   "metadata": {},
   "outputs": [
    {
     "name": "stdout",
     "output_type": "stream",
     "text": [
      "First_Name\n",
      "Last_Name\n",
      "Age\n",
      "City\n"
     ]
    }
   ],
   "source": [
    "player_01 = {\n",
    "    'first_name': 'yuno', \n",
    "    'last_name': 'gasai', \n",
    "    'age': 14, \n",
    "    'city': 'sakurami'\n",
    "}\n",
    "\n",
    "# The keys() method returns a view object. The view object contains the keys of the dictionary, as a list.\n",
    "for name in player_01.keys(): \n",
    "    print(name.title())\n",
    "\n",
    "# Syntax: dictionary.keys()"
   ]
  },
  {
   "cell_type": "markdown",
   "id": "a6ba4dd1-bda5-4610-89d5-74de91a7faa8",
   "metadata": {},
   "source": [
    "**Looping Through a Dictionary’s Keys in a Particular Order**"
   ]
  },
  {
   "cell_type": "code",
   "execution_count": 15,
   "id": "ca36c059-e21a-4913-ac8a-bc74879ce06d",
   "metadata": {},
   "outputs": [
    {
     "name": "stdout",
     "output_type": "stream",
     "text": [
      "Age, confirmed.\n",
      "City, confirmed.\n",
      "First_Name, confirmed.\n",
      "Last_Name, confirmed.\n"
     ]
    }
   ],
   "source": [
    "player_01 = {\n",
    "    'first_name': 'yuno', \n",
    "    'last_name': 'gasai', \n",
    "    'age': 14, \n",
    "    'city': 'sakurami'\n",
    "}\n",
    "\n",
    "# The sort() method sorts the list ascending by default.\n",
    "for name in sorted(player_01.keys()): \n",
    "    print(f\"{name.title()}, confirmed.\")\n",
    "\n",
    "# Syntax: list.sort(reverse=True|False, key=myFunc)\n",
    "\n",
    "# Parameter Values\n",
    "\n",
    "# | Parameter | Description |\n",
    "# |-----------|-------------|\n",
    "# | `reverse` | Optional. Set `reverse=True` to sort the list in descending order. Default is `reverse=False`. |\n",
    "# | `key`     | Optional. A function to specify the sorting criteria. |"
   ]
  },
  {
   "cell_type": "markdown",
   "id": "1e8f8ed8-40c2-4740-ad3d-156a1e0934eb",
   "metadata": {},
   "source": [
    "**Looping Through All Values in a Dictionary**"
   ]
  },
  {
   "cell_type": "code",
   "execution_count": 16,
   "id": "3bb69f0a-25d7-47e3-ba91-50712d1c2af5",
   "metadata": {},
   "outputs": [
    {
     "name": "stdout",
     "output_type": "stream",
     "text": [
      "Yuno\n",
      "Gasai\n",
      "14\n",
      "Sakurami\n"
     ]
    }
   ],
   "source": [
    "player_01 = {\n",
    "    'first_name': 'yuno', \n",
    "    'last_name': 'gasai', \n",
    "    'age': '14', \n",
    "    'city': 'sakurami'\n",
    "}\n",
    "\n",
    "# The values() method returns a view object. The view object contains the values of the dictionary, as a list.\n",
    "for name in player_01.values():\n",
    "    print(name.title())\n",
    "\n",
    "# Syntax: dictionary.values()"
   ]
  },
  {
   "cell_type": "markdown",
   "id": "b3caae38-ae74-4ccf-b94e-29e2cecc7e57",
   "metadata": {},
   "source": [
    "**Second Set of Exercises**\n",
    "\n",
    "**Try It Yourself**\n",
    "\n",
    "**6-5. Rivers:** \n",
    "Create a dictionary with three major rivers and the countries they flow through, such as `'nile': 'egypt'`.\n",
    "- Use a loop to print a sentence about each river, e.g., \"The Nile runs through Egypt.\"\n",
    "- Use a loop to print just the name of each river.\n",
    "- Use a loop to print just the name of each country.\n",
    "\n",
    "**6-6. Polling:** \n",
    "Starting with the code in favorite_languages.py:\n",
    "- Make a list of people who should take the favorite languages poll, including some names already in the dictionary and some that are not.\n",
    "- Loop through the list. If someone has already taken the poll, thank them for responding. If not, invite them to take the poll."
   ]
  },
  {
   "cell_type": "code",
   "execution_count": 17,
   "id": "1d7adc66-9e82-4992-8d42-f3223442606e",
   "metadata": {},
   "outputs": [
    {
     "name": "stdout",
     "output_type": "stream",
     "text": [
      "The Nile runs though Eygpt.\n",
      "The Mekong runs though China.\n",
      "The Amazon runs though South_America.\n"
     ]
    }
   ],
   "source": [
    "# 6-5\n",
    "\n",
    "rivers = {\n",
    "    'nile': 'eygpt',\n",
    "    'mekong': 'china',\n",
    "    'amazon': 'south_america',\n",
    "}\n",
    "\n",
    "for river, place in rivers.items():\n",
    "    print(f\"The {river.title()} runs though {place.title()}.\")          "
   ]
  },
  {
   "cell_type": "code",
   "execution_count": 18,
   "id": "eddbf279-b56e-4bd1-8aa9-807289d91a9b",
   "metadata": {},
   "outputs": [
    {
     "name": "stdout",
     "output_type": "stream",
     "text": [
      "Jen, thank you for taking the poll.\n",
      "Sarah, thank you for taking the poll.\n",
      "Rob, please take our favorite languages poll.\n",
      "Linda, please take our favorite languages poll.\n",
      "Edward, thank you for taking the poll.\n"
     ]
    }
   ],
   "source": [
    "# 6-6\n",
    "\n",
    "favorite_languages = {\n",
    "    'jen': 'python',\n",
    "    'sarah': 'c',\n",
    "    'edward': 'ruby',\n",
    "    'phil': 'python',\n",
    "}\n",
    "\n",
    "# List of people to check for the poll\n",
    "poll_list = ['jen', 'sarah', 'rob', 'linda', 'edward']\n",
    "\n",
    "for name in poll_list:\n",
    "    if name in favorite_languages.keys():\n",
    "        print(f\"{name.title()}, thank you for taking the poll.\")\n",
    "    else:\n",
    "        print(f\"{name.title()}, please take our favorite languages poll.\")"
   ]
  },
  {
   "cell_type": "markdown",
   "id": "b17f36be-c6d3-4e69-a1a0-939ed93d5c42",
   "metadata": {},
   "source": [
    "**A List of Dictionaries**"
   ]
  },
  {
   "cell_type": "code",
   "execution_count": 19,
   "id": "8c6263e0-d78c-4b3b-8f57-636af1d53fc1",
   "metadata": {},
   "outputs": [
    {
     "name": "stdout",
     "output_type": "stream",
     "text": [
      "{'ryan': 'warrior', 'veronica': 'necromancer', 'lucy': 'monster', 'rangar': 'wizard', 'rollo': 'archer'}\n"
     ]
    }
   ],
   "source": [
    "favorite_build = {\n",
    "    'ryan': 'warrior',\n",
    "    'veronica': 'necromancer',\n",
    "    'lucy': 'monster',\n",
    "    'rangar': 'wizard',\n",
    "    'rollo': 'archer',\n",
    "}\n",
    "\n",
    "builds = [favorite_build]\n",
    "\n",
    "for build in builds:\n",
    "    print(build)"
   ]
  },
  {
   "cell_type": "markdown",
   "id": "52be33a1-33a4-47b3-9174-9e945347788b",
   "metadata": {
    "scrolled": true
   },
   "source": [
    "**A List in a Dictionary**"
   ]
  },
  {
   "cell_type": "code",
   "execution_count": 20,
   "id": "5ae1aa8e-95e1-47f5-8ae7-48ed659c68b3",
   "metadata": {},
   "outputs": [
    {
     "name": "stdout",
     "output_type": "stream",
     "text": [
      "You ordered a white bread sub with the following toppings:\n",
      "\tbacon\n",
      "\tturkey\n",
      "\tlettuce\n",
      "\tmayo\n"
     ]
    }
   ],
   "source": [
    "# Initialize a dictionary named 'sub' to store the sandwich details.\n",
    "sub = {\n",
    "    'bread': 'white',  # Type of bread: white\n",
    "    # List of toppings to be added to the sub.\n",
    "    'toppings': ['bacon', 'turkey', 'lettuce', 'mayo']\n",
    "}\n",
    "\n",
    "# For long print() statements in Python, break the line with quotes and Python will join them automatically.\n",
    "# Print the first part of the order: the type of bread.\n",
    "print(f\"You ordered a {sub['bread']} bread sub \"\n",
    "      \"with the following toppings:\")\n",
    "\n",
    "# Loop through each topping in the 'toppings' list.\n",
    "for topping in sub['toppings']:\n",
    "    # Print each topping, prefixed with a tab for better readability.\n",
    "    print(f\"\\t{topping}\")"
   ]
  },
  {
   "cell_type": "markdown",
   "id": "4b28fe2c-7a47-43af-820e-40852e81615a",
   "metadata": {},
   "source": [
    "**A Dictionary in a Dictionary**"
   ]
  },
  {
   "cell_type": "code",
   "execution_count": 21,
   "id": "4b7f4b64-07f1-4aec-8524-538bef27702c",
   "metadata": {},
   "outputs": [
    {
     "name": "stdout",
     "output_type": "stream",
     "text": [
      "\n",
      "Name: satoru_gojo\n",
      "\tFull name: Gojo Satoru\n",
      "\tOccupation: Teacher\n",
      "\n",
      "Name: hisoka_marow\n",
      "\tFull name: Hisoka Morow\n",
      "\tOccupation: Hunter\n"
     ]
    }
   ],
   "source": [
    "# Dictionary containing user data\n",
    "users = {\n",
    "    'satoru_gojo': {\n",
    "        'first': 'gojo',\n",
    "        'last': 'satoru',\n",
    "        'occupation': 'teacher',\n",
    "    },\n",
    "    'hisoka_marow': {\n",
    "        'first': 'hisoka',\n",
    "        'last': 'morow',\n",
    "        'occupation': 'hunter',\n",
    "    },\n",
    "}\n",
    "\n",
    "# Loop through the users dictionary\n",
    "for name, user_info in users.items():\n",
    "    # Print the username\n",
    "    print(f\"\\nName: {name}\")\n",
    "\n",
    "    # Construct full name from first and last names\n",
    "    full_name = f\"{user_info['first']} {user_info['last']}\"\n",
    "\n",
    "    # Retrieve the occupation from the user_info dictionary\n",
    "    occupation = user_info['occupation']\n",
    "\n",
    "    # Print the full name and occupation, formatted with title case\n",
    "    print(f\"\\tFull name: {full_name.title()}\")\n",
    "    print(f\"\\tOccupation: {occupation.title()}\")"
   ]
  },
  {
   "cell_type": "markdown",
   "id": "424d941c-038a-4317-99af-ef31f40ca491",
   "metadata": {},
   "source": [
    "**Third Set of Exercises**\n",
    "\n",
    "**Try It Yourself**\n",
    "\n",
    "**6-7. People:** \n",
    "Start with your program from Exercise 6-1. Create two new dictionaries representing different people and add them to a list named `people` along with the first dictionary. Then loop through the list and print all information about each person.\n",
    "\n",
    "**6-8. Pets:** \n",
    "Create several dictionaries, each representing a different pet, including details like animal type and owner's name. Store these in a list named `pets`. Loop through the list and print all information about each pet.\n",
    "\n",
    "**6-9. Favorite Places:** \n",
    "Create a dictionary called `favorite_places` with three people’s names as keys, and store 1-3 favorite places for each. Loop through the dictionary, printing each person's name and their favorite places.\n",
    "\n",
    "**6-10. Favorite Numbers:** \n",
    "Modify your program from Exercise 6-2 to allow each person to have multiple favorite numbers. Print each person’s name along with their favorite numbers.\n",
    "\n",
    "**6-11. Cities:** \n",
    "Make a dictionary called `cities` using the names of three cities as keys. Include information like the country, population, and an interesting fact for each city. Print each city's name and all stored information."
   ]
  },
  {
   "cell_type": "code",
   "execution_count": 22,
   "id": "aa70ef66-b3a5-4dc9-9edb-937d95e35188",
   "metadata": {},
   "outputs": [
    {
     "name": "stdout",
     "output_type": "stream",
     "text": [
      "\n",
      "Player Information:\n",
      "\tFirst_Name: Yuno\n",
      "\tLast_Name: Gasai\n",
      "\tAge: 14\n",
      "\tCity: Sakurami\n",
      "\n",
      "Player Information:\n",
      "\tFirst_Name: Edward\n",
      "\tLast_Name: Elric\n",
      "\tAge: 15\n",
      "\tCity: Resembool\n",
      "\n",
      "Player Information:\n",
      "\tFirst_Name: Natsu\n",
      "\tLast_Name: Dragneel\n",
      "\tAge: 17\n",
      "\tCity: Magnolia\n"
     ]
    }
   ],
   "source": [
    "# 6-7\n",
    "\n",
    "# Initial player dictionaries\n",
    "player_01 = {\n",
    "    'first_name': 'yuno', \n",
    "    'last_name': 'gasai', \n",
    "    'age': '14', \n",
    "    'city': 'sakurami'\n",
    "}\n",
    "\n",
    "player_02 = {\n",
    "    'first_name': 'edward', \n",
    "    'last_name': 'elric', \n",
    "    'age': '15', \n",
    "    'city': 'resembool'\n",
    "}\n",
    "\n",
    "player_03 = {\n",
    "    'first_name': 'natsu', \n",
    "    'last_name': 'dragneel', \n",
    "    'age': '17', \n",
    "    'city': 'magnolia'\n",
    "}\n",
    "\n",
    "players = [player_01, player_02, player_03]\n",
    "\n",
    "for player in players:\n",
    "    print(\"\\nPlayer Information:\")\n",
    "    for key, value in player.items():\n",
    "        print(f\"\\t{key.title()}: {value.title()}\")"
   ]
  },
  {
   "cell_type": "code",
   "execution_count": 23,
   "id": "6d628422-7b9e-43f3-9c14-c02109567b67",
   "metadata": {},
   "outputs": [
    {
     "name": "stdout",
     "output_type": "stream",
     "text": [
      "\n",
      "Pet Owner's Pet:\n",
      "\tDog: Jack\n",
      "\n",
      "Pet Owner's Pet:\n",
      "\tCat: Veronica\n",
      "\n",
      "Pet Owner's Pet:\n",
      "\tChopper: Luffy\n"
     ]
    }
   ],
   "source": [
    "# 6-8\n",
    "\n",
    "# Pet owner dictionaries\n",
    "pet_owner_01 = {\n",
    "    'dog': 'jack',\n",
    "}\n",
    "\n",
    "pet_owner_02 = {\n",
    "    'cat': 'veronica',\n",
    "}\n",
    "\n",
    "pet_owner_03 = {\n",
    "    'chopper': 'luffy',\n",
    "}\n",
    "\n",
    "# List containing all pet owner dictionaries\n",
    "pet_owners = [pet_owner_01, pet_owner_02, pet_owner_03]\n",
    "\n",
    "# Loop through each pet owner in the pet_owners list\n",
    "for pet_owner in pet_owners:\n",
    "    print(\"\\nPet Owner's Pet:\")\n",
    "    for key, value in pet_owner.items():  \n",
    "        print(f\"\\t{key.title()}: {value.title()}\")"
   ]
  },
  {
   "cell_type": "code",
   "execution_count": 24,
   "id": "445cbe26-de0c-4ea3-83ab-e1f6318b7692",
   "metadata": {},
   "outputs": [
    {
     "name": "stdout",
     "output_type": "stream",
     "text": [
      "\n",
      "Favotite Places\n",
      "\tJack: Hawaii\n",
      "\n",
      "Favotite Places\n",
      "\tJill: Greece\n",
      "\n",
      "Favotite Places\n",
      "\tJames: California\n"
     ]
    }
   ],
   "source": [
    "# 6-9\n",
    "\n",
    "place_01 = {\n",
    "    'jack': 'hawaii',\n",
    "}\n",
    "\n",
    "place_02 = {\n",
    "     'jill': 'greece',\n",
    "}\n",
    "\n",
    "place_03 = {\n",
    "    'james': 'california',\n",
    "}\n",
    "\n",
    "places = [place_01, place_02, place_03]\n",
    "for place in places:\n",
    "    print(\"\\nFavotite Places\")\n",
    "    for key, value in place.items():\n",
    "        print(f\"\\t{key.title()}: {value.title()}\")"
   ]
  },
  {
   "cell_type": "code",
   "execution_count": 25,
   "id": "d924d7f5-e8bd-4d60-95ff-faa65d122849",
   "metadata": {},
   "outputs": [
    {
     "name": "stdout",
     "output_type": "stream",
     "text": [
      "Thunderlord's favorite numbers are: [1, 11]\n",
      "Starshard's favorite numbers are: [2, 12, 22]\n",
      "Frostbane's favorite numbers are: [3, 13]\n",
      "Ironheart's favorite numbers are: [4, 14, 24, 34]\n",
      "Nightstalker's favorite numbers are: [5, 15, 25]\n"
     ]
    }
   ],
   "source": [
    "# 6-10\n",
    "\n",
    "favorite_numbers = {\n",
    "    'thunderlord': [1, 11],\n",
    "    'starshard': [2, 12, 22],\n",
    "    'frostbane': [3, 13],\n",
    "    'ironheart': [4, 14, 24, 34],\n",
    "    'nightstalker': [5, 15, 25],\n",
    "}\n",
    "\n",
    "# Loop through the dictionary\n",
    "for name, numbers in favorite_numbers.items():\n",
    "    # Print each person's name and their favorite numbers\n",
    "    print(f\"{name.title()}'s favorite numbers are: {numbers}\")"
   ]
  },
  {
   "cell_type": "code",
   "execution_count": 26,
   "id": "373cbb7f-7251-42e7-aefe-3e36e93da9e4",
   "metadata": {},
   "outputs": [
    {
     "name": "stdout",
     "output_type": "stream",
     "text": [
      "\n",
      "Three Random Cities:\n",
      "\tNevada: ['hot', 'desert', 'casinos']\n",
      "\n",
      "Three Random Cities:\n",
      "\tTokyo: ['average', 'downtown', 'anime']\n",
      "\n",
      "Three Random Cities:\n",
      "\tBigbear: ['cold', 'snow', 'snowboarding']\n"
     ]
    }
   ],
   "source": [
    "# City dictionaries\n",
    "city_01 = {\n",
    "    'nevada': ['hot', 'desert', 'casinos'],\n",
    "}\n",
    "\n",
    "city_02 = {\n",
    "    'tokyo': ['average', 'downtown', 'anime'],\n",
    "}\n",
    "\n",
    "city_03 = {\n",
    "     'bigbear': ['cold', 'snow', 'snowboarding'],\n",
    "}\n",
    "\n",
    "# List containing all city dictionaries\n",
    "cities = [city_01, city_02, city_03]\n",
    "\n",
    "# Loop through each city in the cities list\n",
    "for city in cities:\n",
    "    print(\"\\nThree Random Cities:\")\n",
    "    for key, values in city.items():\n",
    "        # Print the city name and its associated values\n",
    "        print(f\"\\t{key.title()}: {values}\")"
   ]
  }
 ],
 "metadata": {
  "kernelspec": {
   "display_name": "Python 3 (ipykernel)",
   "language": "python",
   "name": "python3"
  },
  "language_info": {
   "codemirror_mode": {
    "name": "ipython",
    "version": 3
   },
   "file_extension": ".py",
   "mimetype": "text/x-python",
   "name": "python",
   "nbconvert_exporter": "python",
   "pygments_lexer": "ipython3",
   "version": "3.11.6"
  }
 },
 "nbformat": 4,
 "nbformat_minor": 5
}
