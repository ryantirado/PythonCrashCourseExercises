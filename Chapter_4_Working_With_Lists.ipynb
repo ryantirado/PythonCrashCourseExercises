{
 "cells": [
  {
   "cell_type": "markdown",
   "id": "7d1c9ef8-65be-408a-b084-6e00dec6febc",
   "metadata": {},
   "source": [
    "<h3> Chapter 4: Working With Lists"
   ]
  },
  {
   "cell_type": "markdown",
   "id": "ac9bd50b-5c19-482f-8ca0-8d1e06d0867f",
   "metadata": {},
   "source": [
    "As I progress through \"Python Crash Course\" by Eric Matthes, I have begun Chapter 4: 'Working with Lists'. The chapter introduces more sophisticated operations and techniques than Chapter 3. I hope to deepen my understanding of iterating through lists, applying conditional tests, and comprehending list comprehensions through this course. I need to master these concepts in order to efficiently manipulate data and solve problems in Python, furthering my development as a Python programmer."
   ]
  },
  {
   "cell_type": "code",
   "execution_count": 1,
   "id": "cdcf2738-100b-44bc-9d47-183884e68213",
   "metadata": {},
   "outputs": [],
   "source": [
    "# Whenever you write a temporary variable in your for-loops, you can give it any name you want.\n",
    "\n",
    "# for cat in cats:\n",
    "# for dog in dogs:\n",
    "# for item in list_of_items:\n",
    "# for i in shopping_list "
   ]
  },
  {
   "cell_type": "markdown",
   "id": "7f560af5-0cec-4654-99ee-650adabc2d8c",
   "metadata": {},
   "source": [
    "**Doing More Work Within a for-Loop**"
   ]
  },
  {
   "cell_type": "code",
   "execution_count": 2,
   "id": "63a4a402-05e3-450c-a9a1-591f02368207",
   "metadata": {},
   "outputs": [
    {
     "name": "stdout",
     "output_type": "stream",
     "text": [
      "I love our Marines!\n",
      "I love our Army!\n",
      "I love our Navy!\n",
      "I love our Airforce!\n",
      "My favorite is our Marines!\n"
     ]
    }
   ],
   "source": [
    "military_branch = ['marines', 'army', 'navy', 'airforce']\n",
    "for branch in military_branch:\n",
    "    print(f\"I love our {branch.title()}!\") # Uses temporary variable 'branch'\n",
    "\n",
    "print(f\"My favorite is our {military_branch[0].title()}!\") # Uses main variable 'military_branch'"
   ]
  },
  {
   "cell_type": "markdown",
   "id": "c037036c-77f0-444a-92f7-2991a10bee7f",
   "metadata": {},
   "source": [
    "**Forgetting to Indent**"
   ]
  },
  {
   "cell_type": "code",
   "execution_count": 3,
   "id": "8f817ef9-1b4c-4b8f-a385-3734546f2258",
   "metadata": {},
   "outputs": [
    {
     "ename": "IndentationError",
     "evalue": "expected an indented block after 'for' statement on line 4 (3283749741.py, line 5)",
     "output_type": "error",
     "traceback": [
      "\u001b[0;36m  Cell \u001b[0;32mIn[3], line 5\u001b[0;36m\u001b[0m\n\u001b[0;31m    print(f\"I love our {branch.title()}!\") # Uses temporary variable 'branch'\u001b[0m\n\u001b[0m    ^\u001b[0m\n\u001b[0;31mIndentationError\u001b[0m\u001b[0;31m:\u001b[0m expected an indented block after 'for' statement on line 4\n"
     ]
    }
   ],
   "source": [
    "# Always indent the line after the for statment in a loop. If you forget, Python will remind you with a 'IndentationError:'.\n",
    "\n",
    "military_branch = ['marines', 'army', 'navy', 'airforce']\n",
    "for branch in military_branch:\n",
    "print(f\"I love our {branch.title()}!\") # Uses temporary variable 'branch'"
   ]
  },
  {
   "cell_type": "markdown",
   "id": "03b76479-f548-45fe-9052-4e5bd87acc5e",
   "metadata": {},
   "source": [
    "**Forgetting the colon**"
   ]
  },
  {
   "cell_type": "code",
   "execution_count": 4,
   "id": "797ecd3d-c6a5-4f42-8c17-b90b2ea77f75",
   "metadata": {},
   "outputs": [
    {
     "ename": "SyntaxError",
     "evalue": "expected ':' (1974764762.py, line 4)",
     "output_type": "error",
     "traceback": [
      "\u001b[0;36m  Cell \u001b[0;32mIn[4], line 4\u001b[0;36m\u001b[0m\n\u001b[0;31m    for branch in military_branch\u001b[0m\n\u001b[0m                                 ^\u001b[0m\n\u001b[0;31mSyntaxError\u001b[0m\u001b[0;31m:\u001b[0m expected ':'\n"
     ]
    }
   ],
   "source": [
    "# The colon at the end of a for statement tells Python to interpret the next line as the start of a loop.\n",
    "\n",
    "military_branch = ['marines', 'army', 'navy', 'airforce']\n",
    "for branch in military_branch\n",
    "    print(f\"I love our {branch.title()}!\") # Uses temporary variable 'branch'\n",
    "\n",
    "# If you forget the colon, you'll get a 'SyntaxEror:' because Python doens't know what you're trying to do."
   ]
  },
  {
   "cell_type": "markdown",
   "id": "9d8380f4-6635-435c-86dd-75a6bafd577d",
   "metadata": {},
   "source": [
    "**First Set of Exercises:**\n",
    "\n",
    "**Try It Yourself Exercises:**\n",
    "\n",
    "**4-1. Pizzas:**\n",
    "- Think of at least three kinds of your favorite pizza. Store these pizza names in a list, and then use a for loop to print the name of each pizza.\n",
    "  - Modify your for loop to print a sentence using the name of the pizza instead of printing just the name of the pizza. For each pizza, you should have one line of output containing a simple statement like \"I like pepperoni pizza.\"\n",
    "  - Add a line at the end of your program, outside the for loop, that states how much you like pizza. The output should consist of three or more lines about the kinds of pizza you like and then an additional sentence, such as \"I really love pizza!\"\n",
    "\n",
    "**4-2. Animals:**\n",
    "- Think of at least three different animals that have a common characteristic. Store the names of these animals in a list, and then use a for loop to print out the name of each animal.\n",
    "  - Modify your program to print a statement about each animal, such as \"A dog would make a great pet.\"\n",
    "  - Add a line at the end of your program stating what these animals have in common. You could print a sentence such as \"Any of these animals would make a great pet!\""
   ]
  },
  {
   "cell_type": "code",
   "execution_count": 5,
   "id": "907d3397-be01-4a4a-b8e5-ed1230268f02",
   "metadata": {},
   "outputs": [
    {
     "name": "stdout",
     "output_type": "stream",
     "text": [
      "I like cheese pizza.\n",
      "I like pepperoni pizza.\n",
      "I like meat_lovers pizza.\n"
     ]
    }
   ],
   "source": [
    "# 4-1\n",
    "\n",
    "pizza = ['cheese', 'pepperoni', 'meat_lovers']\n",
    "\n",
    "for i in pizza: \n",
    "    print(f\"I like {i} pizza.\")"
   ]
  },
  {
   "cell_type": "code",
   "execution_count": 6,
   "id": "d589e78f-6ccc-407b-a835-ae459facec47",
   "metadata": {},
   "outputs": [
    {
     "name": "stdout",
     "output_type": "stream",
     "text": [
      "A cat would make a great pet\n",
      "A dog would make a great pet\n",
      "A snake would make a great pet\n",
      "Any of these animals would make a great pet!\n"
     ]
    }
   ],
   "source": [
    "# 4-2\n",
    "\n",
    "animals = ['cat', 'dog', 'snake']\n",
    "\n",
    "for i in animals:\n",
    "    print(f\"A {i} would make a great pet\")\n",
    "\n",
    "print(f\"Any of these animals would make a great pet!\")"
   ]
  },
  {
   "cell_type": "markdown",
   "id": "0a331eda-d655-485c-8e1d-daf613f6b16a",
   "metadata": {},
   "source": [
    "**Making Numerical Lists**"
   ]
  },
  {
   "cell_type": "markdown",
   "id": "b405c5c2-65e3-4d72-8918-41473db7d248",
   "metadata": {},
   "source": [
    "Storing numerical sets, like character positions in games, player high scores, or data visualization values (temperatures, distances, population sizes, latitude, and longitude), is crucial. Python's lists are perfect for this, offering tools for efficient handling of large number sets, ensuring smooth code performance even with millions of items."
   ]
  },
  {
   "cell_type": "markdown",
   "id": "6289a3ca-fcf4-44a6-9262-7a927e8062ac",
   "metadata": {},
   "source": [
    "**Using the range() Function**"
   ]
  },
  {
   "cell_type": "code",
   "execution_count": 7,
   "id": "e92eb340-00f1-4b43-8922-b2fe0a413e65",
   "metadata": {},
   "outputs": [
    {
     "name": "stdout",
     "output_type": "stream",
     "text": [
      "1\n",
      "2\n",
      "3\n",
      "4\n"
     ]
    }
   ],
   "source": [
    "for value in range(1, 5):\n",
    "    print(value)\n",
    "\n",
    "# Although this code looks like it should print the numbers from 1 to 5, it doesn't print the number 5 \n",
    "\n",
    "\n",
    "# Syntax: range(start, stop, step)\n",
    "\n",
    "### Parameter Values\n",
    "\n",
    "#| Parameter | Description |\n",
    "#|-----------|-------------|\n",
    "#| `start`   | Optional. An integer number specifying at which position to start. Default is 0 |\n",
    "#| `stop`    | Required. An integer number specifying at which position to stop (not included). |\n",
    "#| `step`    | Optional. An integer number specifying the incrementation. Default is 1 |"
   ]
  },
  {
   "cell_type": "markdown",
   "id": "03fc5682-b7b1-4969-8125-f35dfc31eafd",
   "metadata": {},
   "source": [
    "**Using range() to Make a List of Numbers**"
   ]
  },
  {
   "cell_type": "code",
   "execution_count": 8,
   "id": "7b37f0a1-134a-4b0c-a157-7fb905916948",
   "metadata": {},
   "outputs": [
    {
     "name": "stdout",
     "output_type": "stream",
     "text": [
      "[1, 2, 3, 4, 5]\n"
     ]
    }
   ],
   "source": [
    "# Convert a range() output into a list of numbers using the list() function\n",
    "\n",
    "numbers = list(range(1, 6))\n",
    "print(numbers)\n",
    "\n",
    "# Syntax: list(iterable)\n",
    "\n",
    "#| Parameter | Description |\n",
    "#|-----------|-------------|\n",
    "#| `iterable`   | Optional. A sequence, collection or an iterator object "
   ]
  },
  {
   "cell_type": "code",
   "execution_count": 9,
   "id": "bfb0ad6b-e730-4544-b948-0473c0f09dc1",
   "metadata": {},
   "outputs": [
    {
     "name": "stdout",
     "output_type": "stream",
     "text": [
      "1\n",
      "2\n",
      "3\n",
      "4\n",
      "5\n"
     ]
    }
   ],
   "source": [
    "# Note: 'Iterable' is an object which can be looped over or iterated over with the help of a for-loop: example \n",
    "\n",
    "numbers = [1, 2, 3, 4, 5]\n",
    "for number in numbers:\n",
    "    print(number)\n",
    "    \n",
    "# In this example, numbers is an iterable, and the for loop iterates over each element in the list, printing each one."
   ]
  },
  {
   "cell_type": "markdown",
   "id": "95553cfd-00cc-4ed1-8c16-7b9ad8d5199a",
   "metadata": {},
   "source": [
    "**Simple Statistics with a List of Numbers**"
   ]
  },
  {
   "cell_type": "code",
   "execution_count": 10,
   "id": "b38b54a7-6ac8-43cd-a8f7-37c6c808629c",
   "metadata": {},
   "outputs": [
    {
     "name": "stdout",
     "output_type": "stream",
     "text": [
      "0\n",
      "9\n",
      "45\n"
     ]
    }
   ],
   "source": [
    "digits = [1, 2, 3, 4, 5, 6, 7, 8, 9, 0]\n",
    "\n",
    "print(min(digits))\n",
    "print(max(digits))\n",
    "print(sum(digits))"
   ]
  },
  {
   "cell_type": "markdown",
   "id": "a25fc274-4ba3-4615-bdc8-48a01c3954a9",
   "metadata": {},
   "source": [
    "**List Comprehensions**\n"
   ]
  },
  {
   "cell_type": "code",
   "execution_count": 11,
   "id": "5ec36810-658a-4298-9cac-4c7f92302048",
   "metadata": {},
   "outputs": [
    {
     "name": "stdout",
     "output_type": "stream",
     "text": [
      "[1, 4, 9, 16, 25, 36, 49, 64, 81, 100]\n"
     ]
    }
   ],
   "source": [
    "squares = [value**2 for value in range(1, 11)]\n",
    "print(squares)"
   ]
  },
  {
   "cell_type": "markdown",
   "id": "afbe0ee0-5787-478b-b5d7-56ba3d44af2b",
   "metadata": {},
   "source": [
    "**Second Set of Exercises**\n",
    "\n",
    "**Try It Yourself**\n",
    "\n",
    "**4-3. Counting to Twenty:** \n",
    "- Use a for loop to print the numbers from 1 to 20, inclusive.\n",
    "\n",
    "**4-4. One Million:** \n",
    "- Make a list of the numbers from one to one million, and then use a for loop to print the numbers. (If the output is taking too long, stop it by pressing ctrl-C or by closing the output window.)\n",
    "\n",
    "**4-5. Summing a Million:** \n",
    "- Make a list of the numbers from one to one million, and then use `min()` and `max()` to ensure your list starts at one and ends at one million. Also, use the `sum()` function to calculate the total of these numbers.\n",
    "\n",
    "**4-6. Odd Numbers:** \n",
    "- Use the third argument of the `range()` function to make a list of the odd numbers from 1 to 20. Use a for loop to print each number.\n",
    "\n",
    "**4-7. Threes:** \n",
    "- Make a list of the multiples of 3 from 3 to 30. Use a for loop to print the numbers in your list.\n",
    "\n",
    "**4-8. Cubes:** \n",
    "- A cube is a number raised to the third power, e.g., 2**3 in Python. Make a list of the first 10 cubes (the cube of each integer from 1 through 10), and use a for loop to print each cube's value.\n",
    "\n",
    "**4-9. Cube Comprehension:** \n",
    "- Use a list comprehension to generate a list of the first 10 cubes."
   ]
  },
  {
   "cell_type": "code",
   "execution_count": 12,
   "id": "f8b7b399-5650-4852-92b6-2a7c5122884b",
   "metadata": {},
   "outputs": [
    {
     "name": "stdout",
     "output_type": "stream",
     "text": [
      "1\n",
      "2\n",
      "3\n",
      "4\n",
      "5\n",
      "6\n",
      "7\n",
      "8\n",
      "9\n",
      "10\n",
      "11\n",
      "12\n",
      "13\n",
      "14\n",
      "15\n",
      "16\n",
      "17\n",
      "18\n",
      "19\n",
      "20\n"
     ]
    }
   ],
   "source": [
    "# 4-3\n",
    "\n",
    "for number in range(1, 21):\n",
    "    print(number)"
   ]
  },
  {
   "cell_type": "code",
   "execution_count": 13,
   "id": "048e04f3-843a-499f-a23e-c868411b9e55",
   "metadata": {},
   "outputs": [
    {
     "name": "stderr",
     "output_type": "stream",
     "text": [
      "IOPub data rate exceeded.\n",
      "The Jupyter server will temporarily stop sending output\n",
      "to the client in order to avoid crashing it.\n",
      "To change this limit, set the config variable\n",
      "`--ServerApp.iopub_data_rate_limit`.\n",
      "\n",
      "Current values:\n",
      "ServerApp.iopub_data_rate_limit=1000000.0 (bytes/sec)\n",
      "ServerApp.rate_limit_window=3.0 (secs)\n",
      "\n"
     ]
    }
   ],
   "source": [
    "# 4-4\n",
    "\n",
    "one_million = list(range(1, 1000001))\n",
    "print(one_million)"
   ]
  },
  {
   "cell_type": "code",
   "execution_count": 14,
   "id": "4e5788fb-b501-4c2f-a12a-9b4b27f6a1f2",
   "metadata": {},
   "outputs": [
    {
     "name": "stdout",
     "output_type": "stream",
     "text": [
      "1\n",
      "1000000\n"
     ]
    }
   ],
   "source": [
    "# 4-5\n",
    "\n",
    "million = list(range(1, 1000001))\n",
    "print(min(million))\n",
    "print(max(million))"
   ]
  },
  {
   "cell_type": "code",
   "execution_count": 15,
   "id": "a13a5b7a-6925-441f-84fe-f42c61a8a75b",
   "metadata": {},
   "outputs": [
    {
     "name": "stdout",
     "output_type": "stream",
     "text": [
      "[1, 3, 5, 7, 9, 11, 13, 15, 17, 19]\n"
     ]
    }
   ],
   "source": [
    "# 4-6\n",
    "\n",
    "odd_numbers = list(range(1, 21, 2))\n",
    "print(odd_numbers)"
   ]
  },
  {
   "cell_type": "code",
   "execution_count": 16,
   "id": "79bc2d27-7dff-45a1-8730-7a26671884bd",
   "metadata": {},
   "outputs": [
    {
     "name": "stdout",
     "output_type": "stream",
     "text": [
      "[1, 4, 7, 10, 13, 16, 19, 22, 25, 28]\n"
     ]
    }
   ],
   "source": [
    "# 4-7\n",
    "threes = list(range(1, 31, 3))\n",
    "print(threes)"
   ]
  },
  {
   "cell_type": "code",
   "execution_count": 17,
   "id": "bcd31df2-fd3e-481f-810b-ec3568afc50a",
   "metadata": {},
   "outputs": [
    {
     "name": "stdout",
     "output_type": "stream",
     "text": [
      "1\n",
      "8\n",
      "27\n",
      "64\n",
      "125\n",
      "216\n",
      "343\n",
      "512\n",
      "729\n",
      "1000\n"
     ]
    }
   ],
   "source": [
    "# 4-8\n",
    "\n",
    "cubes = []\n",
    "for number in range(1, 11):\n",
    "    cube = number ** 3\n",
    "    cubes.append(cube)\n",
    "    print(cube)"
   ]
  },
  {
   "cell_type": "code",
   "execution_count": 18,
   "id": "ee4d63e8-5eeb-40d1-a100-1a73cd457b06",
   "metadata": {},
   "outputs": [
    {
     "name": "stdout",
     "output_type": "stream",
     "text": [
      "[1, 8, 27, 64, 125, 216, 343, 512, 729, 1000]\n"
     ]
    }
   ],
   "source": [
    "# 4-9\n",
    "\n",
    "cubes = [number ** 3 for number in range(1, 11)]\n",
    "print(cubes)"
   ]
  },
  {
   "cell_type": "markdown",
   "id": "a9670b13-af12-4f39-9ffd-c4fe1a0b8cb8",
   "metadata": {},
   "source": [
    "## Midway Inspiration\n",
    "\n",
    "> **Embrace the Challenge**\n",
    ">\n",
    "> \"Progress lies not in enhancing what is, but in advancing toward what will be.\" \n",
    "> — Khalil Gibran"
   ]
  },
  {
   "cell_type": "markdown",
   "id": "2ff4ad42-3279-4bba-a8df-5f790d81daf1",
   "metadata": {},
   "source": [
    "**Slicing a List**"
   ]
  },
  {
   "cell_type": "code",
   "execution_count": 19,
   "id": "1f1e13af-0f85-4812-8ca1-ab84d0fbbbab",
   "metadata": {},
   "outputs": [
    {
     "name": "stdout",
     "output_type": "stream",
     "text": [
      "['ds1', 'ds2']\n"
     ]
    }
   ],
   "source": [
    "dark_souls = ['ds1', 'ds2', 'ds3']\n",
    "print(dark_souls[0:2])\n",
    "\n",
    "# This code prints the first two elements of the dark_souls list ('ds1' and 'ds2'), using slicing to specify the range from index 0 to 2 (excluding index 2)."
   ]
  },
  {
   "cell_type": "code",
   "execution_count": 20,
   "id": "976ed84f-e133-46de-bd3c-c5afb8718162",
   "metadata": {},
   "outputs": [
    {
     "name": "stdout",
     "output_type": "stream",
     "text": [
      "['ds3']\n"
     ]
    }
   ],
   "source": [
    "dark_souls = ['ds1', 'ds2', 'ds3']\n",
    "print(dark_souls[2:])\n",
    "\n",
    "# This code prints the elements of dark_souls starting from index 2 ('ds3') to the end of the list."
   ]
  },
  {
   "cell_type": "code",
   "execution_count": 21,
   "id": "841bde02-5086-43f3-9d00-25114c485abb",
   "metadata": {},
   "outputs": [
    {
     "name": "stdout",
     "output_type": "stream",
     "text": [
      "['ds2', 'ds3']\n"
     ]
    }
   ],
   "source": [
    "dark_souls = ['ds1', 'ds2', 'ds3']\n",
    "print(dark_souls[-2:])\n",
    "\n",
    "# This code prints the last two elements ('ds2', 'ds3') of the dark_souls list using negative slicing."
   ]
  },
  {
   "cell_type": "code",
   "execution_count": 22,
   "id": "19b4d1e6-6acd-4a3f-822b-269bd0ba2aa0",
   "metadata": {},
   "outputs": [
    {
     "name": "stdout",
     "output_type": "stream",
     "text": [
      "Here are the first three souls games\n",
      "Demon_Souls\n",
      "Ds1\n",
      "Ds2\n"
     ]
    }
   ],
   "source": [
    "souls_games = ['demon_souls', 'ds1', 'ds2', 'ds3', 'bloodborne', 'sekiro', 'elden_ring']\n",
    "\n",
    "print(\"Here are the first three souls games\")\n",
    "for i in souls_games[:3]:\n",
    "    print(i.title())"
   ]
  },
  {
   "cell_type": "markdown",
   "id": "3a8f2e4f-cb32-4830-82f3-cb5d5a1e7896",
   "metadata": {},
   "source": [
    "**Copying a List**"
   ]
  },
  {
   "cell_type": "markdown",
   "id": "90aa655d-0e1a-4ed3-9200-d387714a967d",
   "metadata": {},
   "source": [
    "This code demonstrates the use of list slicing and how it can be utilized to create a copy of a list in Python. When gf_games = my_games[:] is executed, a new list gf_games is created as a copy of my_games. This means that subsequent modifications to either list (my_games or gf_games) do not affect the other. Thus, when different games are appended to each list, the lists reflect those unique changes independently."
   ]
  },
  {
   "cell_type": "code",
   "execution_count": 23,
   "id": "a9c9871e-c05a-4f02-a132-97f82fb560a6",
   "metadata": {},
   "outputs": [
    {
     "name": "stdout",
     "output_type": "stream",
     "text": [
      "My favorite games are:\n",
      "['pokemon', 'sekiro', 'fallout', 'skyrim']\n",
      "\n",
      "My gf favorite games are:\n",
      "['pokemon', 'sekiro', 'fallout', 'skyrim']\n"
     ]
    }
   ],
   "source": [
    "my_games = ['pokemon', 'sekiro', 'fallout', 'skyrim']\n",
    "gf_games = my_games[:]\n",
    "\n",
    "print(\"My favorite games are:\")\n",
    "print(my_games)\n",
    "\n",
    "print(\"\\nMy gf favorite games are:\")\n",
    "print(gf_games)"
   ]
  },
  {
   "cell_type": "code",
   "execution_count": 24,
   "id": "c3ccebb1-d0cb-4998-89e2-44fbaa9b30a7",
   "metadata": {},
   "outputs": [
    {
     "name": "stdout",
     "output_type": "stream",
     "text": [
      "My favorite games are:\n",
      "['pokemon', 'sekiro', 'fallout', 'skyrim', 'osrs']\n",
      "\n",
      "My gf favorite games are:\n",
      "['pokemon', 'sekiro', 'fallout', 'skyrim', 'animal_crossing']\n"
     ]
    }
   ],
   "source": [
    "my_games = ['pokemon', 'sekiro', 'fallout', 'skyrim']\n",
    "gf_games = my_games[:]\n",
    "\n",
    "my_games.append('osrs') # Old School Runescape\n",
    "gf_games.append('animal_crossing') \n",
    "print(\"My favorite games are:\")\n",
    "print(my_games)\n",
    "\n",
    "print(\"\\nMy gf favorite games are:\")\n",
    "print(gf_games)"
   ]
  },
  {
   "cell_type": "markdown",
   "id": "7695b349-80fb-4057-bea8-9b0790b334d2",
   "metadata": {},
   "source": [
    "**Third Set of Exercises**\n",
    "\n",
    "**Try It Yourself**\n",
    "\n",
    "**4-10. Slices:** \n",
    "- Using a previously written program, add lines to:\n",
    "  - Print \"The first three items in the list are:\", then print the first three items using a slice.\n",
    "  - Print \"Three items from the middle of the list are:\", then print three middle items using a slice.\n",
    "  - Print \"The last three items in the list are:\", then print the last three items using a slice.\n",
    "\n",
    "**4-11. My Pizzas, Your Pizzas:** \n",
    "- Start with your Exercise 4-1 program.\n",
    "  - Make a copy of the pizza list, naming it `friend_pizzas`.\n",
    "  - Add a new pizza to the original list.\n",
    "  - Add a different pizza to `friend_pizzas`.\n",
    "  - Prove the lists are separate by printing \"My favorite pizzas are:\" followed by the original list, and \"My friend’s favorite pizzas are:\" followed by `friend_pizzas`."
   ]
  },
  {
   "cell_type": "code",
   "execution_count": 25,
   "id": "18f679c4-0392-4351-90de-2d7f0dda5209",
   "metadata": {},
   "outputs": [
    {
     "name": "stdout",
     "output_type": "stream",
     "text": [
      "['demon_souls', 'ds1', 'ds2']\n",
      "['ds2', 'ds3', 'bloodborne']\n",
      "['bloodborne', 'sekiro', 'elden_ring']\n"
     ]
    }
   ],
   "source": [
    "# 4-10\n",
    "\n",
    "souls_games = ['demon_souls', 'ds1', 'ds2', 'ds3', 'bloodborne', 'sekiro', 'elden_ring']\n",
    "print(souls_games[:3])\n",
    "\n",
    "souls_games = ['demon_souls', 'ds1', 'ds2', 'ds3', 'bloodborne', 'sekiro', 'elden_ring']\n",
    "print(souls_games[2:5])\n",
    "\n",
    "souls_games = ['demon_souls', 'ds1', 'ds2', 'ds3', 'bloodborne', 'sekiro', 'elden_ring']\n",
    "print(souls_games[-3:])"
   ]
  },
  {
   "cell_type": "code",
   "execution_count": 26,
   "id": "e1853fac-b65c-4b3d-9958-3ef828561788",
   "metadata": {},
   "outputs": [
    {
     "name": "stdout",
     "output_type": "stream",
     "text": [
      "My favorite pizzas are:\n",
      "my favorite pizza is cheese\n",
      "my favorite pizza is pepperoni\n",
      "my favorite pizza is meat_lovers\n",
      "my favorite pizza is margherita\n",
      "\n",
      "My friend's favorite pizzas are:\n",
      "My friend's favorite pizza is cheese\n",
      "My friend's favorite pizza is pepperoni\n",
      "My friend's favorite pizza is meat_lovers\n",
      "My friend's favorite pizza is sausage\n"
     ]
    }
   ],
   "source": [
    "# 4-11\n",
    "\n",
    "pizza = ['cheese', 'pepperoni', 'meat_lovers']\n",
    "friends_pizza = pizza[:]\n",
    "\n",
    "pizza.append('margherita')\n",
    "\n",
    "friends_pizza.append('sausage')\n",
    "\n",
    "print(\"My favorite pizzas are:\")\n",
    "for p in pizza:\n",
    "    print(f\"my favorite pizza is {p}\")\n",
    "\n",
    "print(\"\\nMy friend's favorite pizzas are:\")\n",
    "for fp in friends_pizza:\n",
    "    print(f\"My friend's favorite pizza is {fp}\")"
   ]
  },
  {
   "cell_type": "markdown",
   "id": "27af9aa1-26ac-4386-a0e7-11fbacff0045",
   "metadata": {},
   "source": [
    "**Tuples**\n",
    "\n",
    "- Tuples are used to store multiple items in a single variable.\n",
    "\n",
    "- Tuple is one of 4 built-in data types in Python used to store collections of data, the other 3 are List, Set, and Dictionary, all with different qualities and usage.\n",
    "\n",
    "- A tuple is a collection which is ordered and unchangeable\n",
    "\n",
    "- Tuples are written with round brackets.\n",
    "\n",
    "- Tuple items are ordered, unchangeable, and allow duplicate values.\n",
    "\n",
    "- Tuple items are indexed, the first item has index [0], the second item has index [1] etc."
   ]
  },
  {
   "cell_type": "markdown",
   "id": "0af54539-2c41-47bd-9950-230d15808897",
   "metadata": {},
   "source": [
    "A tuple looks just like a list except you use parentheses instead of square brackets. Once you define a typle, you can access individual elements by using each item's index, just as you would for a list"
   ]
  },
  {
   "cell_type": "code",
   "execution_count": 27,
   "id": "3e106406-86e5-4efc-9dde-ec24ea909a8a",
   "metadata": {},
   "outputs": [
    {
     "name": "stdout",
     "output_type": "stream",
     "text": [
      "1\n",
      "9000\n"
     ]
    }
   ],
   "source": [
    "power_level = (1, 9000)\n",
    "print(power_level[0])\n",
    "print(power_level[1])"
   ]
  },
  {
   "cell_type": "markdown",
   "id": "5427bced-9ac9-4cee-9b99-50402aa3d73f",
   "metadata": {},
   "source": [
    "Above we define the tuple dimensions as 'power_levels', using parentheses instead of square brackets. We print each element in the tuple individually, using the same syntax we’ve been using to access elements in a list:"
   ]
  },
  {
   "cell_type": "code",
   "execution_count": 28,
   "id": "2b310d08-483a-4ace-bd34-692373f03ece",
   "metadata": {},
   "outputs": [
    {
     "ename": "TypeError",
     "evalue": "'tuple' object does not support item assignment",
     "output_type": "error",
     "traceback": [
      "\u001b[0;31m---------------------------------------------------------------------------\u001b[0m",
      "\u001b[0;31mTypeError\u001b[0m                                 Traceback (most recent call last)",
      "Cell \u001b[0;32mIn[28], line 4\u001b[0m\n\u001b[1;32m      1\u001b[0m \u001b[38;5;66;03m# Lets see what happens if we try to change one of the items in the tuple dimensions\u001b[39;00m\n\u001b[1;32m      3\u001b[0m power_level \u001b[38;5;241m=\u001b[39m (\u001b[38;5;241m1\u001b[39m, \u001b[38;5;241m9000\u001b[39m)\n\u001b[0;32m----> 4\u001b[0m \u001b[43mpower_level\u001b[49m\u001b[43m[\u001b[49m\u001b[38;5;241;43m0\u001b[39;49m\u001b[43m]\u001b[49m \u001b[38;5;241m=\u001b[39m \u001b[38;5;241m250\u001b[39m\n",
      "\u001b[0;31mTypeError\u001b[0m: 'tuple' object does not support item assignment"
     ]
    }
   ],
   "source": [
    "# Lets see what happens if we try to change one of the items in the tuple dimensions\n",
    "\n",
    "power_level = (1, 9000)\n",
    "power_level[0] = 250\n"
   ]
  },
  {
   "cell_type": "markdown",
   "id": "119206b0-c86d-41a3-b5b2-af758a273a6d",
   "metadata": {},
   "source": [
    "**Looping Through All Variables in a Tuple**"
   ]
  },
  {
   "cell_type": "code",
   "execution_count": 29,
   "id": "c37a3b05-3359-485a-b5a9-650ed05cf550",
   "metadata": {},
   "outputs": [
    {
     "name": "stdout",
     "output_type": "stream",
     "text": [
      "1\n",
      "9000\n"
     ]
    }
   ],
   "source": [
    "power_level = (1, 9000)\n",
    "for power in power_level:\n",
    "    print(power)"
   ]
  },
  {
   "cell_type": "markdown",
   "id": "fb69df9f-7581-43b9-a3f5-fdc7f343bb04",
   "metadata": {},
   "source": [
    "**Writing over a Tuple**"
   ]
  },
  {
   "cell_type": "code",
   "execution_count": 30,
   "id": "392eca30-5d9a-456c-ba9d-d38cf71d7813",
   "metadata": {},
   "outputs": [
    {
     "name": "stdout",
     "output_type": "stream",
     "text": [
      "Original dimensions:\n",
      "1\n",
      "9000\n",
      "\n",
      "Modified dimensions:\n",
      "2\n",
      "18000\n"
     ]
    }
   ],
   "source": [
    "power_level = (1, 9000)\n",
    "print(\"Original dimensions:\")\n",
    "for power in power_level:\n",
    "    print(power)\n",
    "\n",
    "\n",
    "power_level = (2, 18000)\n",
    "print(\"\\nModified dimensions:\")\n",
    "for power in power_level:\n",
    "    print(power)"
   ]
  }
 ],
 "metadata": {
  "kernelspec": {
   "display_name": "Python 3 (ipykernel)",
   "language": "python",
   "name": "python3"
  },
  "language_info": {
   "codemirror_mode": {
    "name": "ipython",
    "version": 3
   },
   "file_extension": ".py",
   "mimetype": "text/x-python",
   "name": "python",
   "nbconvert_exporter": "python",
   "pygments_lexer": "ipython3",
   "version": "3.11.6"
  }
 },
 "nbformat": 4,
 "nbformat_minor": 5
}
